{
 "cells": [
  {
   "cell_type": "code",
   "execution_count": 1,
   "source": [
    "import pandas as pd\r\n",
    "import numpy as np\r\n",
    "import re"
   ],
   "outputs": [],
   "metadata": {}
  },
  {
   "cell_type": "code",
   "execution_count": 2,
   "source": [
    "df = pd.read_csv('/21_HF216/project/CrawlingData/book_info.csv')\r\n",
    "df.rename(columns = {'0': 'isbn', '1': 'title', '2': 'author', '3': 'description'}, inplace=True)\r\n",
    "df.head()"
   ],
   "outputs": [
    {
     "output_type": "execute_result",
     "data": {
      "text/plain": [
       "            isbn                         title  \\\n",
       "0  9771197225987                흘러가는 구름을 동경하였다   \n",
       "1  9772586200006       장애와 테크놀로지 - 과학잡지 에피 16호   \n",
       "2  9772586200211          식물의 과학 - 과학잡지 에피 17호   \n",
       "3  9772733807003  에픽 #04 - BELOVED, 2021.7.8.9   \n",
       "4  9772765656006       오늘의 좋은 소설 2021.가을 - 58호   \n",
       "\n",
       "                                              author  \\\n",
       "0        김시탁, 김일태, 민창홍, 성선경, 이강휘, 이기영, 이달균, 이서린, 이월춘   \n",
       "1  김초엽, 김원영, 김상희, 유기훈, 이주현, 류성두, 명수민, 킴 포춘, 전치형, ...   \n",
       "2  강연실, 허준이, 금종해, 안수지, 이상엽, 남재환, 황승식, 장진성, 박찬열, 강...   \n",
       "3  임현, 임철홍, 에밀리 정민 윤, 이정식, 임소라, 김대성, 박하빈, 염은영, 김혜...   \n",
       "4                             김현, 서정아, 이미욱, 이태형, 정미형   \n",
       "\n",
       "                                         description  \n",
       "0  시문학연구회 「하로동선」의 여섯 번째 동인지. 지금까지 현대시의 새로운 방향성을 탐...  \n",
       "1  『에피』 16호 키워드 숨 섹션은 ‘장애와 테크놀로지’를 주제로 삼았다. 기술의 발...  \n",
       "2  과학비평 계간지 에피 17호는 “식물의 과학”을 다루며 17편의 글을 담았다. 식물...  \n",
       "3  4호의 제호는 ‘BELOVED’이다. 1988년 퓰리처상 수상작이기도 한 토니 모리...  \n",
       "4  오늘의 좋은 소설은 간단하다. 무겁지도 어렵지도 않다. 어떤 장식과 해설도 하지 않...  "
      ],
      "text/html": [
       "<div>\n",
       "<style scoped>\n",
       "    .dataframe tbody tr th:only-of-type {\n",
       "        vertical-align: middle;\n",
       "    }\n",
       "\n",
       "    .dataframe tbody tr th {\n",
       "        vertical-align: top;\n",
       "    }\n",
       "\n",
       "    .dataframe thead th {\n",
       "        text-align: right;\n",
       "    }\n",
       "</style>\n",
       "<table border=\"1\" class=\"dataframe\">\n",
       "  <thead>\n",
       "    <tr style=\"text-align: right;\">\n",
       "      <th></th>\n",
       "      <th>isbn</th>\n",
       "      <th>title</th>\n",
       "      <th>author</th>\n",
       "      <th>description</th>\n",
       "    </tr>\n",
       "  </thead>\n",
       "  <tbody>\n",
       "    <tr>\n",
       "      <th>0</th>\n",
       "      <td>9771197225987</td>\n",
       "      <td>흘러가는 구름을 동경하였다</td>\n",
       "      <td>김시탁, 김일태, 민창홍, 성선경, 이강휘, 이기영, 이달균, 이서린, 이월춘</td>\n",
       "      <td>시문학연구회 「하로동선」의 여섯 번째 동인지. 지금까지 현대시의 새로운 방향성을 탐...</td>\n",
       "    </tr>\n",
       "    <tr>\n",
       "      <th>1</th>\n",
       "      <td>9772586200006</td>\n",
       "      <td>장애와 테크놀로지 - 과학잡지 에피 16호</td>\n",
       "      <td>김초엽, 김원영, 김상희, 유기훈, 이주현, 류성두, 명수민, 킴 포춘, 전치형, ...</td>\n",
       "      <td>『에피』 16호 키워드 숨 섹션은 ‘장애와 테크놀로지’를 주제로 삼았다. 기술의 발...</td>\n",
       "    </tr>\n",
       "    <tr>\n",
       "      <th>2</th>\n",
       "      <td>9772586200211</td>\n",
       "      <td>식물의 과학 - 과학잡지 에피 17호</td>\n",
       "      <td>강연실, 허준이, 금종해, 안수지, 이상엽, 남재환, 황승식, 장진성, 박찬열, 강...</td>\n",
       "      <td>과학비평 계간지 에피 17호는 “식물의 과학”을 다루며 17편의 글을 담았다. 식물...</td>\n",
       "    </tr>\n",
       "    <tr>\n",
       "      <th>3</th>\n",
       "      <td>9772733807003</td>\n",
       "      <td>에픽 #04 - BELOVED, 2021.7.8.9</td>\n",
       "      <td>임현, 임철홍, 에밀리 정민 윤, 이정식, 임소라, 김대성, 박하빈, 염은영, 김혜...</td>\n",
       "      <td>4호의 제호는 ‘BELOVED’이다. 1988년 퓰리처상 수상작이기도 한 토니 모리...</td>\n",
       "    </tr>\n",
       "    <tr>\n",
       "      <th>4</th>\n",
       "      <td>9772765656006</td>\n",
       "      <td>오늘의 좋은 소설 2021.가을 - 58호</td>\n",
       "      <td>김현, 서정아, 이미욱, 이태형, 정미형</td>\n",
       "      <td>오늘의 좋은 소설은 간단하다. 무겁지도 어렵지도 않다. 어떤 장식과 해설도 하지 않...</td>\n",
       "    </tr>\n",
       "  </tbody>\n",
       "</table>\n",
       "</div>"
      ]
     },
     "metadata": {},
     "execution_count": 2
    }
   ],
   "metadata": {}
  },
  {
   "cell_type": "code",
   "execution_count": 3,
   "source": [
    "print(df.shape)"
   ],
   "outputs": [
    {
     "output_type": "stream",
     "name": "stdout",
     "text": [
      "(5906, 4)\n"
     ]
    }
   ],
   "metadata": {}
  },
  {
   "cell_type": "code",
   "execution_count": 5,
   "source": [
    "for i in range(len(df)):\r\n",
    "    df.at[i, 'description'] = re.sub('[^ 0-9가-힣]', '' ,df.at[i, 'description'])\r\n",
    "df.head()"
   ],
   "outputs": [
    {
     "output_type": "execute_result",
     "data": {
      "text/plain": [
       "            isbn                         title  \\\n",
       "0  9771197225987                흘러가는 구름을 동경하였다   \n",
       "1  9772586200006       장애와 테크놀로지 - 과학잡지 에피 16호   \n",
       "2  9772586200211          식물의 과학 - 과학잡지 에피 17호   \n",
       "3  9772733807003  에픽 #04 - BELOVED, 2021.7.8.9   \n",
       "4  9772765656006       오늘의 좋은 소설 2021.가을 - 58호   \n",
       "\n",
       "                                              author  \\\n",
       "0        김시탁, 김일태, 민창홍, 성선경, 이강휘, 이기영, 이달균, 이서린, 이월춘   \n",
       "1  김초엽, 김원영, 김상희, 유기훈, 이주현, 류성두, 명수민, 킴 포춘, 전치형, ...   \n",
       "2  강연실, 허준이, 금종해, 안수지, 이상엽, 남재환, 황승식, 장진성, 박찬열, 강...   \n",
       "3  임현, 임철홍, 에밀리 정민 윤, 이정식, 임소라, 김대성, 박하빈, 염은영, 김혜...   \n",
       "4                             김현, 서정아, 이미욱, 이태형, 정미형   \n",
       "\n",
       "                                         description  \n",
       "0  시문학연구회 하로동선의 여섯 번째 동인지 지금까지 현대시의 새로운 방향성을 탐구해 ...  \n",
       "1  에피 16호 키워드 숨 섹션은 장애와 테크놀로지를 주제로 삼았다 기술의 발전이 장애...  \n",
       "2  과학비평 계간지 에피 17호는 식물의 과학을 다루며 17편의 글을 담았다 식물을 나...  \n",
       "3  4호의 제호는 이다 1988년 퓰리처상 수상작이기도 한 토니 모리슨의 장편 빌러비드...  \n",
       "4  오늘의 좋은 소설은 간단하다 무겁지도 어렵지도 않다 어떤 장식과 해설도 하지 않고 ...  "
      ],
      "text/html": [
       "<div>\n",
       "<style scoped>\n",
       "    .dataframe tbody tr th:only-of-type {\n",
       "        vertical-align: middle;\n",
       "    }\n",
       "\n",
       "    .dataframe tbody tr th {\n",
       "        vertical-align: top;\n",
       "    }\n",
       "\n",
       "    .dataframe thead th {\n",
       "        text-align: right;\n",
       "    }\n",
       "</style>\n",
       "<table border=\"1\" class=\"dataframe\">\n",
       "  <thead>\n",
       "    <tr style=\"text-align: right;\">\n",
       "      <th></th>\n",
       "      <th>isbn</th>\n",
       "      <th>title</th>\n",
       "      <th>author</th>\n",
       "      <th>description</th>\n",
       "    </tr>\n",
       "  </thead>\n",
       "  <tbody>\n",
       "    <tr>\n",
       "      <th>0</th>\n",
       "      <td>9771197225987</td>\n",
       "      <td>흘러가는 구름을 동경하였다</td>\n",
       "      <td>김시탁, 김일태, 민창홍, 성선경, 이강휘, 이기영, 이달균, 이서린, 이월춘</td>\n",
       "      <td>시문학연구회 하로동선의 여섯 번째 동인지 지금까지 현대시의 새로운 방향성을 탐구해 ...</td>\n",
       "    </tr>\n",
       "    <tr>\n",
       "      <th>1</th>\n",
       "      <td>9772586200006</td>\n",
       "      <td>장애와 테크놀로지 - 과학잡지 에피 16호</td>\n",
       "      <td>김초엽, 김원영, 김상희, 유기훈, 이주현, 류성두, 명수민, 킴 포춘, 전치형, ...</td>\n",
       "      <td>에피 16호 키워드 숨 섹션은 장애와 테크놀로지를 주제로 삼았다 기술의 발전이 장애...</td>\n",
       "    </tr>\n",
       "    <tr>\n",
       "      <th>2</th>\n",
       "      <td>9772586200211</td>\n",
       "      <td>식물의 과학 - 과학잡지 에피 17호</td>\n",
       "      <td>강연실, 허준이, 금종해, 안수지, 이상엽, 남재환, 황승식, 장진성, 박찬열, 강...</td>\n",
       "      <td>과학비평 계간지 에피 17호는 식물의 과학을 다루며 17편의 글을 담았다 식물을 나...</td>\n",
       "    </tr>\n",
       "    <tr>\n",
       "      <th>3</th>\n",
       "      <td>9772733807003</td>\n",
       "      <td>에픽 #04 - BELOVED, 2021.7.8.9</td>\n",
       "      <td>임현, 임철홍, 에밀리 정민 윤, 이정식, 임소라, 김대성, 박하빈, 염은영, 김혜...</td>\n",
       "      <td>4호의 제호는 이다 1988년 퓰리처상 수상작이기도 한 토니 모리슨의 장편 빌러비드...</td>\n",
       "    </tr>\n",
       "    <tr>\n",
       "      <th>4</th>\n",
       "      <td>9772765656006</td>\n",
       "      <td>오늘의 좋은 소설 2021.가을 - 58호</td>\n",
       "      <td>김현, 서정아, 이미욱, 이태형, 정미형</td>\n",
       "      <td>오늘의 좋은 소설은 간단하다 무겁지도 어렵지도 않다 어떤 장식과 해설도 하지 않고 ...</td>\n",
       "    </tr>\n",
       "  </tbody>\n",
       "</table>\n",
       "</div>"
      ]
     },
     "metadata": {},
     "execution_count": 5
    }
   ],
   "metadata": {}
  },
  {
   "cell_type": "code",
   "execution_count": 9,
   "source": [
    "df.to_csv('/21_HF216/project/flask/model/book_info_refined.csv', index=False)"
   ],
   "outputs": [],
   "metadata": {}
  }
 ],
 "metadata": {
  "kernelspec": {
   "name": "python3",
   "display_name": "Python 3.7.10 64-bit ('bookcode': conda)"
  },
  "language_info": {
   "codemirror_mode": {
    "name": "ipython",
    "version": 3
   },
   "file_extension": ".py",
   "mimetype": "text/x-python",
   "name": "python",
   "nbconvert_exporter": "python",
   "pygments_lexer": "ipython3",
   "version": "3.7.10"
  },
  "interpreter": {
   "hash": "d1060aaa5ae62455a56bffe808016f406ad285202e47dc14c6b5ce9059badd85"
  }
 },
 "nbformat": 4,
 "nbformat_minor": 5
}