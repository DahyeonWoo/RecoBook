{
 "cells": [
  {
   "cell_type": "code",
   "execution_count": 1,
   "id": "4aff682b",
   "metadata": {},
   "outputs": [],
   "source": [
    "#yes24 writer crawler"
   ]
  },
  {
   "cell_type": "code",
   "execution_count": 5,
   "id": "b515edfa",
   "metadata": {},
   "outputs": [],
   "source": [
    "import os\n",
    "from bs4 import BeautifulSoup\n",
    "from urllib.request import urlopen\n",
    "import pandas as pd"
   ]
  },
  {
   "cell_type": "code",
   "execution_count": 7,
   "id": "530c19d8",
   "metadata": {},
   "outputs": [],
   "source": [
    "from selenium import webdriver\n",
    "from selenium.webdriver.support.ui import WebDriverWait\n",
    "from selenium.webdriver.support import expected_conditions as EC\n",
    "from selenium.webdriver.common.by import By\n",
    "import time\n",
    "from selenium.webdriver.chrome.options import Options\n",
    "from selenium.webdriver import ActionChains"
   ]
  },
  {
   "cell_type": "code",
   "execution_count": null,
   "id": "23225e8f",
   "metadata": {},
   "outputs": [],
   "source": [
    "#\\39 8e2c199-7d32-4cde-a6d1-d400bca334a7_tblIntro > tbody > tr:nth-child(3) > td > table > tbody > tr:nth-child(1) > td"
   ]
  },
  {
   "cell_type": "code",
   "execution_count": null,
   "id": "e7e7baf2",
   "metadata": {},
   "outputs": [],
   "source": [
    "def forOnePage(house, isbnNum):\n",
    "    for i in range(10):\n",
    "        oddNum = 2*i + 1\n",
    "        try:\n",
    "            whichBook = driver.find_element_by_css_selector(f'#category_layout > tbody > tr:nth-child({oddNum}) > td.goodsTxtInfo > p.review > a')\n",
    "            if whichBook:\n",
    "                print(f'{i} book found')\n",
    "\n",
    "                #check how many reviews\n",
    "                reviewCnt = int(whichBook.text[:-1])\n",
    "                print('review : ', reviewCnt)\n",
    "\n",
    "                if reviewCnt < 20:\n",
    "                    print('less than 20')\n",
    "                    continue\n",
    "\n",
    "                actions = ActionChains(driver).move_to_element(whichBook).click()\n",
    "                actions.perform()\n",
    "                crawlReview(house, isbnNum)\n",
    "            else:\n",
    "                continue\n",
    "                \n",
    "        except Exception as e:\n",
    "            print(e)\n",
    "\n",
    "        driver.back()"
   ]
  },
  {
   "cell_type": "code",
   "execution_count": 9,
   "id": "74df44d0",
   "metadata": {},
   "outputs": [
    {
     "name": "stdout",
     "output_type": "stream",
     "text": [
      "김원일\n",
      "1942년 경남 김해시 진영읍에서 태어나 대구에서 성장했다. 영남대학교 국문학과(1968)를 졸업했다. 1966년 매일문학상, 1967년 [현대문학]을 통해 등단했다. 한국전쟁에 대해 긴 세월동안 정열적으로 파고들었던 작가이다. 김원일 문학의 중심 소재 중의 하나인 한국전쟁에 관한 이야기는 월북한 아버지를 가진 작가 가족사와 무관치 않다. 고등학교 3학년때 6·25를 겪었고 그로 인해 고통스런 가족사를 경험해야 했던 작가는 이 문제를 쓰지 않고는 어떤 작품도 쓰지 못할 것같은 부채감이 시달리면 고집스럽고 열정적으로 분단문제에 관한 이야기를 썼다. 『노을』, 『어둠의 혼』, 『겨울 골짜기』와 같은 분단소설의 내용은 18년동안 연재해나간 『불의 제전』에 고스란히 녹아흐르고 있다.\n",
      "\n",
      "담담한 문체에 절제된 감정으로 6.25의 비극적인 사건을 이야기하는 김원일은 굴곡진 현대사를 몸으로 겪은 한글세대의 문학이고 궁핍한 농촌에서 6·25와 4·19를 체험하고 산업화를 이룩한 우리세대의 삶을 가장 잘 표현할 줄 아는 작가이다. 열등의식에 사로잡혔던 사춘기와 가난에 대한 원망등으로 초기 소설은 지나칠 정도로 사회 비판적인 시각이 우세했으나 40대 중반을 넘어서면서 중편이 많아지고 분위기도 대립에서 화해로 바뀐다. 31년동안 51편을 묶어 중단편 전집을 최근에 배운 컴퓨터작업으로 끝낼 정도로 열정적인 집필가인 그는 어느덧 뿔테안경에 은발을 쓸어올리는 한국문학의 산증인이다. 2005년에는 그의 고향인 경남 김해시 진영읍 금병공원에 문학비가 건립되었다.\n",
      "\n",
      "소설집으로 『어둠의 혼』, 『오늘 부는 바람』, 『도요새에 관한 명상』, 『환멸을 찾아서』, 『그곳에 이르는 먼 길』, 『마음의 감옥』, 『슬픈 시간의 기억』, 『오마니별』, 『비단길』 등이 있으며, 장편소설에는 『어둠의 축제』, 『노을』, 『바람과 강』, 『겨울 골짜기』, 『마당 깊은 집』, 『늘 푸른 소나무』, 『아우라지 가는 길』, 『불의 제전』, 『도시의 푸른 나무』, 『푸른 혼』, 『전갈』 등이 있다. 산문집으로 『사랑하는 자는 괴로움을 안다』, 『삶의 결, 살림의 길』, 『기억의 풍경들』, 『아들의 아버지』이 있다.\n",
      "\n",
      "현대문학상(1974), 한국소설문학상(1978), 대한민국문학상 대통령상(1978), 한국창작문학상(1979), 동인문학상(1984), 요산문학상(1987), 이상문학상(1990), 우경문화예술상(1992), 서라벌문학상(1993), 한무숙문학상(1998), 이산문학상(1998), 황순원문학상(2002), 대한민국문화예술상(2002), 이수문학상(2003), 만해문학상(2005) 등을 수상했다.\n"
     ]
    }
   ],
   "source": [
    "options = Options()\n",
    "#options.add_argument(\"headless\")\n",
    "options.add_argument('start-maximized')\n",
    "options.add_argument('disable-infobars')\n",
    "options.add_experimental_option(\"useAutomationExtension\", False)\n",
    "options.add_experimental_option(\"excludeSwitches\",[\"enable-automation\"])\n",
    "driver = webdriver.Chrome(options=options, executable_path='chrome driver dir')\n",
    "\n",
    "try:\n",
    "#     values = list()\n",
    "#     isbn = 0\n",
    "#     pageNum = 6\n",
    "    \n",
    "#     while(True):\n",
    "#         if pageNum==11:\n",
    "#             break\n",
    "        \n",
    "#         print('pageNum : ', pageNum)\n",
    "#         #open yes24 page\n",
    "#         driver.get(f'http://www.yes24.com/24/category/bestseller?CategoryNumber=001001047&sumgb=06&PageNumber={pageNum}')\n",
    "#         forOnePage(values, isbn)\n",
    "#         pageNum = pageNum + 1\n",
    "    url = 'https://www.yes24.com/24/AuthorFile/Author/23'\n",
    "    driver.get(url)\n",
    "    \n",
    "    writerName = driver.find_element_by_css_selector('#wrapperContent > table > tbody > tr > td > table > tbody > tr > td:nth-child(2) > table:nth-child(3) > tbody > tr:nth-child(1) > td > table > tbody > tr > td:nth-child(2) > table > tbody > tr:nth-child(1) > td > span:nth-child(1)')\n",
    "    print(writerName.text)\n",
    "    writerInfo = driver.find_element_by_class_name('txt150')\n",
    "    print(writerInfo.text)\n",
    "    \n",
    "        \n",
    "except Exception as e:\n",
    "    print(e)"
   ]
  },
  {
   "cell_type": "code",
   "execution_count": null,
   "id": "378b81b8",
   "metadata": {},
   "outputs": [],
   "source": [
    "#wrapperContent > table > tbody > tr > td > table > tbody > tr > td:nth-child(2) > table:nth-child(3) > tbody > tr:nth-child(1) > td > table > tbody > tr > td:nth-child(2) > table > tbody > tr:nth-child(1) > td > span:nth-child(1)"
   ]
  }
 ],
 "metadata": {
  "kernelspec": {
   "display_name": "Python 3",
   "language": "python",
   "name": "python3"
  },
  "language_info": {
   "codemirror_mode": {
    "name": "ipython",
    "version": 3
   },
   "file_extension": ".py",
   "mimetype": "text/x-python",
   "name": "python",
   "nbconvert_exporter": "python",
   "pygments_lexer": "ipython3",
   "version": "3.8.8"
  }
 },
 "nbformat": 4,
 "nbformat_minor": 5
}
