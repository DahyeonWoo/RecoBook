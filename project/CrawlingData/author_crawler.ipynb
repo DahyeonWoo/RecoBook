{
 "cells": [
  {
   "cell_type": "code",
   "execution_count": 1,
   "metadata": {},
   "outputs": [],
   "source": [
    "import os\n",
    "import time\n",
    "import sys\n",
    "import re\n",
    "\n",
    "import pandas as pd\n",
    "import numpy as np\n",
    "from selenium import webdriver\n",
    "from selenium.webdriver.support.ui import WebDriverWait\n",
    "from selenium.webdriver.support import expected_conditions as EC\n",
    "from selenium.webdriver.common.by import By\n",
    "from selenium.webdriver.chrome.options import Options\n",
    "from selenium.webdriver import ActionChains"
   ]
  },
  {
   "cell_type": "code",
   "execution_count": 2,
   "metadata": {},
   "outputs": [
    {
     "name": "stdout",
     "output_type": "stream",
     "text": [
      "(5906, 4)\n"
     ]
    },
    {
     "data": {
      "text/html": [
       "<div>\n",
       "<style scoped>\n",
       "    .dataframe tbody tr th:only-of-type {\n",
       "        vertical-align: middle;\n",
       "    }\n",
       "\n",
       "    .dataframe tbody tr th {\n",
       "        vertical-align: top;\n",
       "    }\n",
       "\n",
       "    .dataframe thead th {\n",
       "        text-align: right;\n",
       "    }\n",
       "</style>\n",
       "<table border=\"1\" class=\"dataframe\">\n",
       "  <thead>\n",
       "    <tr style=\"text-align: right;\">\n",
       "      <th></th>\n",
       "      <th>0</th>\n",
       "      <th>1</th>\n",
       "      <th>2</th>\n",
       "      <th>3</th>\n",
       "    </tr>\n",
       "  </thead>\n",
       "  <tbody>\n",
       "    <tr>\n",
       "      <th>0</th>\n",
       "      <td>9771197225987</td>\n",
       "      <td>흘러가는 구름을 동경하였다</td>\n",
       "      <td>김시탁, 김일태, 민창홍, 성선경, 이강휘, 이기영, 이달균, 이서린, 이월춘</td>\n",
       "      <td>시문학연구회 「하로동선」의 여섯 번째 동인지. 지금까지 현대시의 새로운 방향성을 탐...</td>\n",
       "    </tr>\n",
       "    <tr>\n",
       "      <th>1</th>\n",
       "      <td>9772586200006</td>\n",
       "      <td>장애와 테크놀로지 - 과학잡지 에피 16호</td>\n",
       "      <td>김초엽, 김원영, 김상희, 유기훈, 이주현, 류성두, 명수민, 킴 포춘, 전치형, ...</td>\n",
       "      <td>『에피』 16호 키워드 숨 섹션은 ‘장애와 테크놀로지’를 주제로 삼았다. 기술의 발...</td>\n",
       "    </tr>\n",
       "    <tr>\n",
       "      <th>2</th>\n",
       "      <td>9772586200211</td>\n",
       "      <td>식물의 과학 - 과학잡지 에피 17호</td>\n",
       "      <td>강연실, 허준이, 금종해, 안수지, 이상엽, 남재환, 황승식, 장진성, 박찬열, 강...</td>\n",
       "      <td>과학비평 계간지 에피 17호는 “식물의 과학”을 다루며 17편의 글을 담았다. 식물...</td>\n",
       "    </tr>\n",
       "    <tr>\n",
       "      <th>3</th>\n",
       "      <td>9772733807003</td>\n",
       "      <td>에픽 #04 - BELOVED, 2021.7.8.9</td>\n",
       "      <td>임현, 임철홍, 에밀리 정민 윤, 이정식, 임소라, 김대성, 박하빈, 염은영, 김혜...</td>\n",
       "      <td>4호의 제호는 ‘BELOVED’이다. 1988년 퓰리처상 수상작이기도 한 토니 모리...</td>\n",
       "    </tr>\n",
       "    <tr>\n",
       "      <th>4</th>\n",
       "      <td>9772765656006</td>\n",
       "      <td>오늘의 좋은 소설 2021.가을 - 58호</td>\n",
       "      <td>김현, 서정아, 이미욱, 이태형, 정미형</td>\n",
       "      <td>오늘의 좋은 소설은 간단하다. 무겁지도 어렵지도 않다. 어떤 장식과 해설도 하지 않...</td>\n",
       "    </tr>\n",
       "  </tbody>\n",
       "</table>\n",
       "</div>"
      ],
      "text/plain": [
       "               0                             1  \\\n",
       "0  9771197225987                흘러가는 구름을 동경하였다   \n",
       "1  9772586200006       장애와 테크놀로지 - 과학잡지 에피 16호   \n",
       "2  9772586200211          식물의 과학 - 과학잡지 에피 17호   \n",
       "3  9772733807003  에픽 #04 - BELOVED, 2021.7.8.9   \n",
       "4  9772765656006       오늘의 좋은 소설 2021.가을 - 58호   \n",
       "\n",
       "                                                   2  \\\n",
       "0        김시탁, 김일태, 민창홍, 성선경, 이강휘, 이기영, 이달균, 이서린, 이월춘   \n",
       "1  김초엽, 김원영, 김상희, 유기훈, 이주현, 류성두, 명수민, 킴 포춘, 전치형, ...   \n",
       "2  강연실, 허준이, 금종해, 안수지, 이상엽, 남재환, 황승식, 장진성, 박찬열, 강...   \n",
       "3  임현, 임철홍, 에밀리 정민 윤, 이정식, 임소라, 김대성, 박하빈, 염은영, 김혜...   \n",
       "4                             김현, 서정아, 이미욱, 이태형, 정미형   \n",
       "\n",
       "                                                   3  \n",
       "0  시문학연구회 「하로동선」의 여섯 번째 동인지. 지금까지 현대시의 새로운 방향성을 탐...  \n",
       "1  『에피』 16호 키워드 숨 섹션은 ‘장애와 테크놀로지’를 주제로 삼았다. 기술의 발...  \n",
       "2  과학비평 계간지 에피 17호는 “식물의 과학”을 다루며 17편의 글을 담았다. 식물...  \n",
       "3  4호의 제호는 ‘BELOVED’이다. 1988년 퓰리처상 수상작이기도 한 토니 모리...  \n",
       "4  오늘의 좋은 소설은 간단하다. 무겁지도 어렵지도 않다. 어떤 장식과 해설도 하지 않...  "
      ]
     },
     "execution_count": 2,
     "metadata": {},
     "output_type": "execute_result"
    }
   ],
   "source": [
    "PATH = 'C:/21_hf216/project/CrawlingData/'\n",
    "df = pd.read_csv(PATH + 'book_info.csv')\n",
    "\n",
    "print(df.shape)\n",
    "df.head()"
   ]
  },
  {
   "cell_type": "code",
   "execution_count": 3,
   "metadata": {},
   "outputs": [
    {
     "data": {
      "text/plain": [
       "0       9771197225987\n",
       "1       9772586200006\n",
       "2       9772586200211\n",
       "3       9772733807003\n",
       "4       9772765656006\n",
       "            ...      \n",
       "5901    9791197556609\n",
       "5902    9791197558009\n",
       "5903    9791197559105\n",
       "5904    9791197566400\n",
       "5905    9791197578410\n",
       "Name: 0, Length: 5906, dtype: object"
      ]
     },
     "execution_count": 3,
     "metadata": {},
     "output_type": "execute_result"
    }
   ],
   "source": [
    "isbn_list = df.iloc[:,0]\n",
    "isbn_list = isbn_list.apply(str)\n",
    "isbn_list"
   ]
  },
  {
   "cell_type": "code",
   "execution_count": 4,
   "metadata": {},
   "outputs": [],
   "source": [
    "# 검색창에 isbn 입력하는 함수\n",
    "def close_popup():\n",
    "    css = '#divYes24SCMEvent > div.yPopBot'\n",
    "    popup = WebDriverWait(driver, 3).until(EC.element_to_be_clickable((By.CSS_SELECTOR, css)))\n",
    "    btnClick1 = ActionChains(driver).move_to_element(popup).click()\n",
    "    btnClick1.perform()\n",
    "    print('팝업 닫기')\n",
    "    time.sleep(1)\n",
    "\n",
    "def search_isbn(isbn):\n",
    "    css = '#query'\n",
    "    search_box = WebDriverWait(driver, 3).until(EC.presence_of_element_located((By.CSS_SELECTOR, css)))\n",
    "    # search_box = driver.find_element_by_css_selector(class_)\n",
    "    search_box.send_keys(isbn)\n",
    "    search_box.submit()\n",
    "    if search_box:\n",
    "        print(f'{isbn} 검색 완료')\n",
    "    \n",
    "    time.sleep(1)\n",
    "\n",
    "# 검색 후 작가 클릭 하는 함수\n",
    "def click_author():\n",
    "    driver.refresh()\n",
    "    css = '#schMid_wrap > div.goods_list_wrap.mgt30 > div.goodsList.goodsList_list > table > tbody > tr:nth-child(1) > td.goods_infogrp > div.goods_info > a:nth-child(1)'\n",
    "    # author = driver.find_element_by_css_selector(css)\n",
    "    author = WebDriverWait(driver, 3).until(EC.element_to_be_clickable((By.CSS_SELECTOR, css)))\n",
    "    btnClick = ActionChains(driver).move_to_element(author).click()\n",
    "    btnClick.perform()\n",
    "    print('작가 버튼 클릭')\n",
    "\n",
    "def click_more():\n",
    "    driver.refresh()\n",
    "    css_more = '#schMid_wrap > div.insideYes24.insideTp01.clearfix > div > dl > dd > a'\n",
    "    more = WebDriverWait(driver, 3).until(EC.element_to_be_clickable((By.CSS_SELECTOR, css_more)))\n",
    "    btnClick2 = ActionChains(driver).move_to_element(more).click()\n",
    "    btnClick2.perform()\n",
    "    print('작가 더보기 버튼 클릭')\n",
    "\n",
    "def get_info_text():\n",
    "    driver.refresh()\n",
    "    info_text = WebDriverWait(driver, 3).until(EC.presence_of_element_located((By.CLASS_NAME, 'txt150'))).text\n",
    "    # info_text = driver.find_element_by_class_name('txt150').text\n",
    "    print('작가 정보 저장')\n",
    "    return info_text\n"
   ]
  },
  {
   "cell_type": "code",
   "execution_count": 7,
   "metadata": {},
   "outputs": [],
   "source": [
    "from tqdm import tqdm\n",
    "author_infolist = []\n",
    "error_list = []\n",
    "chromedriver = 'C:/chromedriver'\n",
    "driver = webdriver.Chrome(chromedriver)\n",
    "driver.get('http://www.yes24.com/main/default.aspx')\n",
    "close_popup()\n",
    "for isbn in tqdm(isbn_list):\n",
    "    driver.get('http://www.yes24.com/main/default.aspx')\n",
    "    try:\n",
    "        search_isbn(isbn)\n",
    "        click_author()\n",
    "        click_more()\n",
    "        author_info = get_info_text()\n",
    "        author_infolist.append([isbn, author_info])\n",
    "    except Exception as e:\n",
    "        print(e)\n",
    "        author_infolist.append([np.nan])\n",
    "        author_info = np.nan\n",
    "        error_list.append([isbn, e])\n",
    "    # with open('author_info2.csv', encoding='utf-8-sig', mode='a') as f:\n",
    "    #     f.write(f'{author_info}\\n')"
   ]
  },
  {
   "cell_type": "code",
   "execution_count": 113,
   "metadata": {},
   "outputs": [
    {
     "name": "stderr",
     "output_type": "stream",
     "text": [
      "C:\\ProgramData\\Anaconda3\\envs\\tens_2g\\lib\\site-packages\\ipykernel_launcher.py:1: DeprecationWarning: The default dtype for empty Series will be 'object' instead of 'float64' in a future version. Specify a dtype explicitly to silence this warning.\n",
      "  \"\"\"Entry point for launching an IPython kernel.\n"
     ]
    },
    {
     "data": {
      "text/plain": [
       "0                                                    NaN\n",
       "1                                                    NaN\n",
       "2                                                    NaN\n",
       "3      1983년 전남 순천에서 태어났다. 2014년 [현대문학] 신인추천에 단편소설 『그...\n",
       "4      1817년 매사추세츠 주 콩코드에서 태어났다. 자신을 ‘신비주의자, 초절주의자, 자...\n",
       "                             ...                        \n",
       "765    어린이청소년문학 작가. 1962년 충북 청원군에서 나고 서울에서 자랐다. 유년기부터...\n",
       "766    여러 도시와 해외를 전전하다 포항에서 도서출판 이팝을 운영 중이다. 생계형 기자였다...\n",
       "767    진주에서 태어나 서울에서 자랐다. 어렸을 때, 골방에서 홀로 책을 읽던 시간의 후유...\n",
       "768    1957년 도쿄에서 태어났다. 국제상과대학 상학부를 졸업한 뒤 조모신문(上毛新聞)에...\n",
       "769    1985년 경기도 성남에서 태어나 부산에서 어린 시절을 보냈다. 주민등록증이 나왔을...\n",
       "Length: 770, dtype: object"
      ]
     },
     "execution_count": 113,
     "metadata": {},
     "output_type": "execute_result"
    }
   ],
   "source": [
    "author_series = pd.Series()\n",
    "for i in range(len(author_infolist)):\n",
    "    author_series = author_series.append(pd.Series(author_infolist[i][0]))\n",
    "author_series.reset_index(drop=True, inplace=True)\n",
    "author_series"
   ]
  },
  {
   "cell_type": "code",
   "execution_count": 124,
   "metadata": {},
   "outputs": [
    {
     "data": {
      "text/html": [
       "<div>\n",
       "<style scoped>\n",
       "    .dataframe tbody tr th:only-of-type {\n",
       "        vertical-align: middle;\n",
       "    }\n",
       "\n",
       "    .dataframe tbody tr th {\n",
       "        vertical-align: top;\n",
       "    }\n",
       "\n",
       "    .dataframe thead th {\n",
       "        text-align: right;\n",
       "    }\n",
       "</style>\n",
       "<table border=\"1\" class=\"dataframe\">\n",
       "  <thead>\n",
       "    <tr style=\"text-align: right;\">\n",
       "      <th></th>\n",
       "      <th>isbn13</th>\n",
       "      <th>name</th>\n",
       "    </tr>\n",
       "  </thead>\n",
       "  <tbody>\n",
       "    <tr>\n",
       "      <th>0</th>\n",
       "      <td>9772384289005</td>\n",
       "      <td>작가 정보가 없습니다.</td>\n",
       "    </tr>\n",
       "    <tr>\n",
       "      <th>1</th>\n",
       "      <td>9772384367000</td>\n",
       "      <td>작가 정보가 없습니다.</td>\n",
       "    </tr>\n",
       "    <tr>\n",
       "      <th>2</th>\n",
       "      <td>9772508333003</td>\n",
       "      <td>작가 정보가 없습니다.</td>\n",
       "    </tr>\n",
       "    <tr>\n",
       "      <th>3</th>\n",
       "      <td>9772733807003</td>\n",
       "      <td>1983년 전남 순천에서 태어났다. 2014년 [현대문학] 신인추천에 단편소설 『그...</td>\n",
       "    </tr>\n",
       "    <tr>\n",
       "      <th>4</th>\n",
       "      <td>9788901166223</td>\n",
       "      <td>1817년 매사추세츠 주 콩코드에서 태어났다. 자신을 ‘신비주의자, 초절주의자, 자...</td>\n",
       "    </tr>\n",
       "    <tr>\n",
       "      <th>...</th>\n",
       "      <td>...</td>\n",
       "      <td>...</td>\n",
       "    </tr>\n",
       "    <tr>\n",
       "      <th>765</th>\n",
       "      <td>9791197120541</td>\n",
       "      <td>어린이청소년문학 작가. 1962년 충북 청원군에서 나고 서울에서 자랐다. 유년기부터...</td>\n",
       "    </tr>\n",
       "    <tr>\n",
       "      <th>766</th>\n",
       "      <td>9791197182204</td>\n",
       "      <td>여러 도시와 해외를 전전하다 포항에서 도서출판 이팝을 운영 중이다. 생계형 기자였다...</td>\n",
       "    </tr>\n",
       "    <tr>\n",
       "      <th>767</th>\n",
       "      <td>9791197381706</td>\n",
       "      <td>진주에서 태어나 서울에서 자랐다. 어렸을 때, 골방에서 홀로 책을 읽던 시간의 후유...</td>\n",
       "    </tr>\n",
       "    <tr>\n",
       "      <th>768</th>\n",
       "      <td>9791197459702</td>\n",
       "      <td>1957년 도쿄에서 태어났다. 국제상과대학 상학부를 졸업한 뒤 조모신문(上毛新聞)에...</td>\n",
       "    </tr>\n",
       "    <tr>\n",
       "      <th>769</th>\n",
       "      <td>9791197475818</td>\n",
       "      <td>1985년 경기도 성남에서 태어나 부산에서 어린 시절을 보냈다. 주민등록증이 나왔을...</td>\n",
       "    </tr>\n",
       "  </tbody>\n",
       "</table>\n",
       "<p>770 rows × 2 columns</p>\n",
       "</div>"
      ],
      "text/plain": [
       "            isbn13                                               name\n",
       "0    9772384289005                                       작가 정보가 없습니다.\n",
       "1    9772384367000                                       작가 정보가 없습니다.\n",
       "2    9772508333003                                       작가 정보가 없습니다.\n",
       "3    9772733807003  1983년 전남 순천에서 태어났다. 2014년 [현대문학] 신인추천에 단편소설 『그...\n",
       "4    9788901166223  1817년 매사추세츠 주 콩코드에서 태어났다. 자신을 ‘신비주의자, 초절주의자, 자...\n",
       "..             ...                                                ...\n",
       "765  9791197120541  어린이청소년문학 작가. 1962년 충북 청원군에서 나고 서울에서 자랐다. 유년기부터...\n",
       "766  9791197182204  여러 도시와 해외를 전전하다 포항에서 도서출판 이팝을 운영 중이다. 생계형 기자였다...\n",
       "767  9791197381706  진주에서 태어나 서울에서 자랐다. 어렸을 때, 골방에서 홀로 책을 읽던 시간의 후유...\n",
       "768  9791197459702  1957년 도쿄에서 태어났다. 국제상과대학 상학부를 졸업한 뒤 조모신문(上毛新聞)에...\n",
       "769  9791197475818  1985년 경기도 성남에서 태어나 부산에서 어린 시절을 보냈다. 주민등록증이 나왔을...\n",
       "\n",
       "[770 rows x 2 columns]"
      ]
     },
     "execution_count": 124,
     "metadata": {},
     "output_type": "execute_result"
    }
   ],
   "source": [
    "sub = pd.DataFrame(dict(isbn13 = isbn_list, name = author_series)).reset_index(drop=True)\n",
    "sub['name'].fillna('작가 정보가 없습니다.', inplace=True)\n",
    "sub.to_csv('author_info.csv', encoding='utf-8-sig', index=False)\n",
    "sub"
   ]
  },
  {
   "cell_type": "code",
   "execution_count": 22,
   "metadata": {},
   "outputs": [
    {
     "name": "stdout",
     "output_type": "stream",
     "text": [
      "(770, 2)\n"
     ]
    },
    {
     "data": {
      "text/html": [
       "<div>\n",
       "<style scoped>\n",
       "    .dataframe tbody tr th:only-of-type {\n",
       "        vertical-align: middle;\n",
       "    }\n",
       "\n",
       "    .dataframe tbody tr th {\n",
       "        vertical-align: top;\n",
       "    }\n",
       "\n",
       "    .dataframe thead th {\n",
       "        text-align: right;\n",
       "    }\n",
       "</style>\n",
       "<table border=\"1\" class=\"dataframe\">\n",
       "  <thead>\n",
       "    <tr style=\"text-align: right;\">\n",
       "      <th></th>\n",
       "      <th>isbn13</th>\n",
       "      <th>name</th>\n",
       "    </tr>\n",
       "  </thead>\n",
       "  <tbody>\n",
       "    <tr>\n",
       "      <th>0</th>\n",
       "      <td>9772384289005</td>\n",
       "      <td>작가 정보가 없습니다.</td>\n",
       "    </tr>\n",
       "    <tr>\n",
       "      <th>1</th>\n",
       "      <td>9772384367000</td>\n",
       "      <td>작가 정보가 없습니다.</td>\n",
       "    </tr>\n",
       "    <tr>\n",
       "      <th>2</th>\n",
       "      <td>9772508333003</td>\n",
       "      <td>작가 정보가 없습니다.</td>\n",
       "    </tr>\n",
       "    <tr>\n",
       "      <th>3</th>\n",
       "      <td>9772733807003</td>\n",
       "      <td>1983년 전남 순천에서 태어났다. 2014년 [현대문학] 신인추천에 단편소설 『그...</td>\n",
       "    </tr>\n",
       "    <tr>\n",
       "      <th>4</th>\n",
       "      <td>9788901166223</td>\n",
       "      <td>1817년 매사추세츠 주 콩코드에서 태어났다. 자신을 ‘신비주의자, 초절주의자, 자...</td>\n",
       "    </tr>\n",
       "  </tbody>\n",
       "</table>\n",
       "</div>"
      ],
      "text/plain": [
       "          isbn13                                               name\n",
       "0  9772384289005                                       작가 정보가 없습니다.\n",
       "1  9772384367000                                       작가 정보가 없습니다.\n",
       "2  9772508333003                                       작가 정보가 없습니다.\n",
       "3  9772733807003  1983년 전남 순천에서 태어났다. 2014년 [현대문학] 신인추천에 단편소설 『그...\n",
       "4  9788901166223  1817년 매사추세츠 주 콩코드에서 태어났다. 자신을 ‘신비주의자, 초절주의자, 자..."
      ]
     },
     "execution_count": 22,
     "metadata": {},
     "output_type": "execute_result"
    }
   ],
   "source": [
    "author_info = pd.read_csv(PATH + 'author_info.csv')\n",
    "print(author_info.shape)\n",
    "author_info.head()"
   ]
  },
  {
   "cell_type": "code",
   "execution_count": 5,
   "metadata": {},
   "outputs": [
    {
     "name": "stdout",
     "output_type": "stream",
     "text": [
      "(770, 3)\n"
     ]
    },
    {
     "data": {
      "text/html": [
       "<div>\n",
       "<style scoped>\n",
       "    .dataframe tbody tr th:only-of-type {\n",
       "        vertical-align: middle;\n",
       "    }\n",
       "\n",
       "    .dataframe tbody tr th {\n",
       "        vertical-align: top;\n",
       "    }\n",
       "\n",
       "    .dataframe thead th {\n",
       "        text-align: right;\n",
       "    }\n",
       "</style>\n",
       "<table border=\"1\" class=\"dataframe\">\n",
       "  <thead>\n",
       "    <tr style=\"text-align: right;\">\n",
       "      <th></th>\n",
       "      <th>isbn13</th>\n",
       "      <th>title</th>\n",
       "      <th>author</th>\n",
       "    </tr>\n",
       "  </thead>\n",
       "  <tbody>\n",
       "    <tr>\n",
       "      <th>0</th>\n",
       "      <td>9772384289005</td>\n",
       "      <td>미스테리아 35호</td>\n",
       "      <td>미스테리아 편집부</td>\n",
       "    </tr>\n",
       "    <tr>\n",
       "      <th>1</th>\n",
       "      <td>9772384367000</td>\n",
       "      <td>악스트 Axt 2021.7.8 - no.037</td>\n",
       "      <td>악스트 편집부 (지은이)</td>\n",
       "    </tr>\n",
       "    <tr>\n",
       "      <th>2</th>\n",
       "      <td>9772508333003</td>\n",
       "      <td>릿터 Littor 2021.6.7 - 30호</td>\n",
       "      <td>릿터 편집부 (지은이)</td>\n",
       "    </tr>\n",
       "    <tr>\n",
       "      <th>3</th>\n",
       "      <td>9772733807003</td>\n",
       "      <td>에픽 #04 - BELOVED, 2021.7.8.9</td>\n",
       "      <td>임현, 임철홍, 에밀리 정민 윤, 이정식, 임소라, 김대성, 박하빈, 염은영, 김혜...</td>\n",
       "    </tr>\n",
       "    <tr>\n",
       "      <th>4</th>\n",
       "      <td>9788901166223</td>\n",
       "      <td>월든 - 시민 불복종 수록</td>\n",
       "      <td>헨리 데이비드 소로우 (지은이), 홍지수 (옮긴이)</td>\n",
       "    </tr>\n",
       "  </tbody>\n",
       "</table>\n",
       "</div>"
      ],
      "text/plain": [
       "          isbn13                         title  \\\n",
       "0  9772384289005                     미스테리아 35호   \n",
       "1  9772384367000     악스트 Axt 2021.7.8 - no.037   \n",
       "2  9772508333003      릿터 Littor 2021.6.7 - 30호   \n",
       "3  9772733807003  에픽 #04 - BELOVED, 2021.7.8.9   \n",
       "4  9788901166223                월든 - 시민 불복종 수록   \n",
       "\n",
       "                                              author  \n",
       "0                                         미스테리아 편집부   \n",
       "1                                      악스트 편집부 (지은이)  \n",
       "2                                       릿터 편집부 (지은이)  \n",
       "3  임현, 임철홍, 에밀리 정민 윤, 이정식, 임소라, 김대성, 박하빈, 염은영, 김혜...  \n",
       "4                       헨리 데이비드 소로우 (지은이), 홍지수 (옮긴이)  "
      ]
     },
     "execution_count": 5,
     "metadata": {},
     "output_type": "execute_result"
    }
   ],
   "source": [
    "book_info = pd.read_csv(PATH + 'book_info.csv')\n",
    "print(book_info.shape)\n",
    "# 컬럼명 변경\n",
    "book_info.rename(columns={'0': 'isbn13', '1': 'title', '2': 'author'}, inplace=True)\n",
    "book_info.head()"
   ]
  },
  {
   "cell_type": "code",
   "execution_count": 24,
   "metadata": {},
   "outputs": [
    {
     "data": {
      "text/html": [
       "<div>\n",
       "<style scoped>\n",
       "    .dataframe tbody tr th:only-of-type {\n",
       "        vertical-align: middle;\n",
       "    }\n",
       "\n",
       "    .dataframe tbody tr th {\n",
       "        vertical-align: top;\n",
       "    }\n",
       "\n",
       "    .dataframe thead th {\n",
       "        text-align: right;\n",
       "    }\n",
       "</style>\n",
       "<table border=\"1\" class=\"dataframe\">\n",
       "  <thead>\n",
       "    <tr style=\"text-align: right;\">\n",
       "      <th></th>\n",
       "      <th>isbn13</th>\n",
       "      <th>name</th>\n",
       "    </tr>\n",
       "  </thead>\n",
       "  <tbody>\n",
       "    <tr>\n",
       "      <th>0</th>\n",
       "      <td>9772384289005</td>\n",
       "      <td>작가 정보가 없습니다.</td>\n",
       "    </tr>\n",
       "    <tr>\n",
       "      <th>1</th>\n",
       "      <td>9772384367000</td>\n",
       "      <td>작가 정보가 없습니다.</td>\n",
       "    </tr>\n",
       "    <tr>\n",
       "      <th>2</th>\n",
       "      <td>9772508333003</td>\n",
       "      <td>작가 정보가 없습니다.</td>\n",
       "    </tr>\n",
       "  </tbody>\n",
       "</table>\n",
       "</div>"
      ],
      "text/plain": [
       "          isbn13          name\n",
       "0  9772384289005  작가 정보가 없습니다.\n",
       "1  9772384367000  작가 정보가 없습니다.\n",
       "2  9772508333003  작가 정보가 없습니다."
      ]
     },
     "execution_count": 24,
     "metadata": {},
     "output_type": "execute_result"
    }
   ],
   "source": [
    "author_info.head(3)"
   ]
  },
  {
   "cell_type": "code",
   "execution_count": 25,
   "metadata": {},
   "outputs": [
    {
     "data": {
      "text/html": [
       "<div>\n",
       "<style scoped>\n",
       "    .dataframe tbody tr th:only-of-type {\n",
       "        vertical-align: middle;\n",
       "    }\n",
       "\n",
       "    .dataframe tbody tr th {\n",
       "        vertical-align: top;\n",
       "    }\n",
       "\n",
       "    .dataframe thead th {\n",
       "        text-align: right;\n",
       "    }\n",
       "</style>\n",
       "<table border=\"1\" class=\"dataframe\">\n",
       "  <thead>\n",
       "    <tr style=\"text-align: right;\">\n",
       "      <th></th>\n",
       "      <th>idx</th>\n",
       "      <th>isbn13</th>\n",
       "      <th>title</th>\n",
       "      <th>author</th>\n",
       "    </tr>\n",
       "  </thead>\n",
       "  <tbody>\n",
       "    <tr>\n",
       "      <th>0</th>\n",
       "      <td>1</td>\n",
       "      <td>9772384289005</td>\n",
       "      <td>미스테리아 35호</td>\n",
       "      <td>미스테리아 편집부</td>\n",
       "    </tr>\n",
       "    <tr>\n",
       "      <th>1</th>\n",
       "      <td>2</td>\n",
       "      <td>9772384367000</td>\n",
       "      <td>악스트 Axt 2021.7.8 - no.037</td>\n",
       "      <td>악스트 편집부 (지은이)</td>\n",
       "    </tr>\n",
       "    <tr>\n",
       "      <th>2</th>\n",
       "      <td>3</td>\n",
       "      <td>9772508333003</td>\n",
       "      <td>릿터 Littor 2021.6.7 - 30호</td>\n",
       "      <td>릿터 편집부 (지은이)</td>\n",
       "    </tr>\n",
       "  </tbody>\n",
       "</table>\n",
       "</div>"
      ],
      "text/plain": [
       "   idx         isbn13                      title         author\n",
       "0    1  9772384289005                  미스테리아 35호     미스테리아 편집부 \n",
       "1    2  9772384367000  악스트 Axt 2021.7.8 - no.037  악스트 편집부 (지은이)\n",
       "2    3  9772508333003   릿터 Littor 2021.6.7 - 30호   릿터 편집부 (지은이)"
      ]
     },
     "execution_count": 25,
     "metadata": {},
     "output_type": "execute_result"
    }
   ],
   "source": [
    "merge1.head(3)"
   ]
  },
  {
   "cell_type": "code",
   "execution_count": 6,
   "metadata": {},
   "outputs": [
    {
     "ename": "NameError",
     "evalue": "name 'author_info' is not defined",
     "output_type": "error",
     "traceback": [
      "\u001b[1;31m---------------------------------------------------------------------------\u001b[0m",
      "\u001b[1;31mNameError\u001b[0m                                 Traceback (most recent call last)",
      "\u001b[1;32m<ipython-input-6-7b0e523eddb5>\u001b[0m in \u001b[0;36m<module>\u001b[1;34m\u001b[0m\n\u001b[0;32m      5\u001b[0m \u001b[0midx\u001b[0m \u001b[1;33m=\u001b[0m \u001b[0mpd\u001b[0m\u001b[1;33m.\u001b[0m\u001b[0mDataFrame\u001b[0m\u001b[1;33m(\u001b[0m\u001b[0mdict\u001b[0m\u001b[1;33m(\u001b[0m\u001b[0midx\u001b[0m \u001b[1;33m=\u001b[0m \u001b[0mlist_\u001b[0m\u001b[1;33m,\u001b[0m \u001b[0misbn13\u001b[0m \u001b[1;33m=\u001b[0m \u001b[0mbook_info\u001b[0m\u001b[1;33m[\u001b[0m\u001b[1;34m'isbn13'\u001b[0m\u001b[1;33m]\u001b[0m\u001b[1;33m)\u001b[0m\u001b[1;33m)\u001b[0m\u001b[1;33m.\u001b[0m\u001b[0mreset_index\u001b[0m\u001b[1;33m(\u001b[0m\u001b[0mdrop\u001b[0m\u001b[1;33m=\u001b[0m\u001b[1;32mTrue\u001b[0m\u001b[1;33m)\u001b[0m\u001b[1;33m\u001b[0m\u001b[1;33m\u001b[0m\u001b[0m\n\u001b[0;32m      6\u001b[0m \u001b[0mmerge1\u001b[0m \u001b[1;33m=\u001b[0m \u001b[0mpd\u001b[0m\u001b[1;33m.\u001b[0m\u001b[0mmerge\u001b[0m\u001b[1;33m(\u001b[0m\u001b[0midx\u001b[0m\u001b[1;33m,\u001b[0m \u001b[0mbook_info\u001b[0m\u001b[1;33m,\u001b[0m \u001b[0mon\u001b[0m\u001b[1;33m=\u001b[0m\u001b[1;34m'isbn13'\u001b[0m\u001b[1;33m,\u001b[0m \u001b[0mhow\u001b[0m\u001b[1;33m=\u001b[0m\u001b[1;34m'left'\u001b[0m\u001b[1;33m)\u001b[0m\u001b[1;33m\u001b[0m\u001b[1;33m\u001b[0m\u001b[0m\n\u001b[1;32m----> 7\u001b[1;33m \u001b[0mmerge2\u001b[0m \u001b[1;33m=\u001b[0m \u001b[0mpd\u001b[0m\u001b[1;33m.\u001b[0m\u001b[0mmerge\u001b[0m\u001b[1;33m(\u001b[0m\u001b[0mmerge1\u001b[0m\u001b[1;33m,\u001b[0m \u001b[0mauthor_info\u001b[0m\u001b[1;33m,\u001b[0m \u001b[0mhow\u001b[0m\u001b[1;33m=\u001b[0m\u001b[1;34m'left'\u001b[0m\u001b[1;33m,\u001b[0m \u001b[0mon\u001b[0m\u001b[1;33m=\u001b[0m\u001b[1;34m'isbn13'\u001b[0m\u001b[1;33m)\u001b[0m\u001b[1;33m\u001b[0m\u001b[1;33m\u001b[0m\u001b[0m\n\u001b[0m\u001b[0;32m      8\u001b[0m \u001b[0mmerge2\u001b[0m\u001b[1;33m.\u001b[0m\u001b[0mrename\u001b[0m\u001b[1;33m(\u001b[0m\u001b[0mcolumns\u001b[0m\u001b[1;33m=\u001b[0m\u001b[1;33m{\u001b[0m\u001b[1;34m'name'\u001b[0m\u001b[1;33m:\u001b[0m \u001b[1;34m'description'\u001b[0m\u001b[1;33m}\u001b[0m\u001b[1;33m,\u001b[0m \u001b[0minplace\u001b[0m\u001b[1;33m=\u001b[0m\u001b[1;32mTrue\u001b[0m\u001b[1;33m)\u001b[0m\u001b[1;33m\u001b[0m\u001b[1;33m\u001b[0m\u001b[0m\n\u001b[0;32m      9\u001b[0m \u001b[0mmerge2\u001b[0m\u001b[1;33m[\u001b[0m\u001b[1;33m[\u001b[0m\u001b[1;34m'booklist'\u001b[0m\u001b[1;33m,\u001b[0m \u001b[1;34m'cleaned'\u001b[0m\u001b[1;33m,\u001b[0m \u001b[1;34m'vector'\u001b[0m\u001b[1;33m]\u001b[0m\u001b[1;33m]\u001b[0m \u001b[1;33m=\u001b[0m \u001b[0mnp\u001b[0m\u001b[1;33m.\u001b[0m\u001b[0mnan\u001b[0m\u001b[1;33m\u001b[0m\u001b[1;33m\u001b[0m\u001b[0m\n",
      "\u001b[1;31mNameError\u001b[0m: name 'author_info' is not defined"
     ]
    }
   ],
   "source": [
    "from tqdm import tqdm\n",
    "list_ = []\n",
    "for i in range(len(book_info)):\n",
    "    list_.append(i+1)\n",
    "idx = pd.DataFrame(dict(idx = list_, isbn13 = book_info['isbn13'])).reset_index(drop=True)\n",
    "merge1 = pd.merge(idx, book_info, on='isbn13', how='left')\n",
    "merge2 = pd.merge(merge1, author_info, how='left', on='isbn13')\n",
    "merge2.rename(columns={'name': 'description'}, inplace=True)\n",
    "merge2[['booklist', 'cleaned', 'vector']] = np.nan\n",
    "\n",
    "li_ = []\n",
    "for i in tqdm(range(len(merge2))):\n",
    "    if '(' in merge2.loc[i, 'author']:\n",
    "        merge2.loc[i, 'author'] = merge2.loc[i, 'author'].split('(')[0].strip()\n",
    "    if merge2.loc[i, 'description'] == '작가 정보가 없습니다.':\n",
    "        merge2.loc[i, 'description'] = np.nan\n",
    "    if len(merge2.loc[i, 'author'].split(',')) > 1:\n",
    "        li_.append(i)\n",
    "merge2.iloc[li_, :]\n",
    "merge2.to_csv(PATH + 'merge2_removed.csv', encoding='utf-8-sig', index=False)"
   ]
  },
  {
   "cell_type": "code",
   "execution_count": 1,
   "metadata": {},
   "outputs": [
    {
     "ename": "NameError",
     "evalue": "name 'merge2' is not defined",
     "output_type": "error",
     "traceback": [
      "\u001b[1;31m---------------------------------------------------------------------------\u001b[0m",
      "\u001b[1;31mNameError\u001b[0m                                 Traceback (most recent call last)",
      "\u001b[1;32m<ipython-input-1-d2419f2ceee8>\u001b[0m in \u001b[0;36m<module>\u001b[1;34m\u001b[0m\n\u001b[1;32m----> 1\u001b[1;33m \u001b[0mmerge2\u001b[0m\u001b[1;33m.\u001b[0m\u001b[0mto_csv\u001b[0m\u001b[1;33m(\u001b[0m\u001b[0mPATH\u001b[0m \u001b[1;33m+\u001b[0m \u001b[1;34m'author_table.csv'\u001b[0m\u001b[1;33m,\u001b[0m \u001b[0mencoding\u001b[0m\u001b[1;33m=\u001b[0m\u001b[1;34m'utf-8-sig'\u001b[0m\u001b[1;33m,\u001b[0m \u001b[0mindex\u001b[0m\u001b[1;33m=\u001b[0m\u001b[1;32mFalse\u001b[0m\u001b[1;33m)\u001b[0m\u001b[1;33m\u001b[0m\u001b[1;33m\u001b[0m\u001b[0m\n\u001b[0m\u001b[0;32m      2\u001b[0m \u001b[0mmerge2\u001b[0m\u001b[1;33m.\u001b[0m\u001b[0mhead\u001b[0m\u001b[1;33m(\u001b[0m\u001b[1;36m3\u001b[0m\u001b[1;33m)\u001b[0m\u001b[1;33m\u001b[0m\u001b[1;33m\u001b[0m\u001b[0m\n",
      "\u001b[1;31mNameError\u001b[0m: name 'merge2' is not defined"
     ]
    }
   ],
   "source": [
    "\n",
    "merge2.to_csv(PATH + 'author_table.csv', encoding='utf-8-sig', index=False)\n",
    "merge2.head(3)"
   ]
  }
 ],
 "metadata": {
  "interpreter": {
   "hash": "d1060aaa5ae62455a56bffe808016f406ad285202e47dc14c6b5ce9059badd85"
  },
  "kernelspec": {
   "display_name": "Python 3.7.10 64-bit ('bookcode': conda)",
   "name": "python3"
  },
  "language_info": {
   "codemirror_mode": {
    "name": "ipython",
    "version": 3
   },
   "file_extension": ".py",
   "mimetype": "text/x-python",
   "name": "python",
   "nbconvert_exporter": "python",
   "pygments_lexer": "ipython3",
   "version": "3.7.10"
  },
  "orig_nbformat": 4
 },
 "nbformat": 4,
 "nbformat_minor": 2
}
