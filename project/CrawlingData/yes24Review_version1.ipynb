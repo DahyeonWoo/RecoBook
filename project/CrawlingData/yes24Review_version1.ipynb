{
 "cells": [
  {
   "cell_type": "code",
   "execution_count": null,
   "id": "5a578043",
   "metadata": {},
   "outputs": [],
   "source": [
    "'''\n",
    "yes24 review crawler\n",
    "20 reviews for each book\n",
    "for book that has reviews more than 20\n",
    "'''"
   ]
  },
  {
   "cell_type": "code",
   "execution_count": 1,
   "id": "85935fe3",
   "metadata": {},
   "outputs": [],
   "source": [
    "import os\n",
    "from bs4 import BeautifulSoup\n",
    "from urllib.request import urlopen\n",
    "import pandas as pd"
   ]
  },
  {
   "cell_type": "code",
   "execution_count": 2,
   "id": "07888c63",
   "metadata": {},
   "outputs": [],
   "source": [
    "from selenium import webdriver\n",
    "from selenium.webdriver.support.ui import WebDriverWait\n",
    "from selenium.webdriver.support import expected_conditions as EC\n",
    "from selenium.webdriver.common.by import By\n",
    "import time\n",
    "from selenium.webdriver.chrome.options import Options\n",
    "from selenium.webdriver import ActionChains"
   ]
  },
  {
   "cell_type": "code",
   "execution_count": 3,
   "id": "3c7ae409",
   "metadata": {},
   "outputs": [],
   "source": [
    "def fiveReview(house, isbnNum):\n",
    "    reviewBlock = driver.find_element_by_id('infoset_reviewContentList')\n",
    "    if reviewBlock:\n",
    "        print('reviewBlock found')\n",
    "\n",
    "    childNum = 3\n",
    "    while(True):\n",
    "        if childNum==8:\n",
    "            break\n",
    "\n",
    "        eachReview = reviewBlock.find_element_by_css_selector(f'div:nth-child({childNum}) > div.reviewInfoBot.crop > a')\n",
    "        print('each review found')\n",
    "\n",
    "        #더보기 누르고\n",
    "        btnClick = ActionChains(driver).move_to_element(eachReview).click()\n",
    "        btnClick.perform()\n",
    "        print('successfully clicked btn')\n",
    "        time.sleep(5)\n",
    "\n",
    "        #내용가져오고\n",
    "\n",
    "        reviewTxt = reviewBlock.find_element_by_css_selector(f'div:nth-child({childNum}) > div.reviewInfoBot.origin > div.review_cont')\n",
    "        reviewContent = reviewTxt.text\n",
    "        #print(reviewContent)\n",
    "        house.append([isbnNum, reviewContent])\n",
    "\n",
    "        #스크롤 조금 내리고\n",
    "        driver.execute_script(\"window.scrollTo(0, window.scrollY + 400);\")\n",
    "\n",
    "        childNum = childNum + 1"
   ]
  },
  {
   "cell_type": "code",
   "execution_count": 4,
   "id": "c352e6ba",
   "metadata": {},
   "outputs": [],
   "source": [
    "def crawlReview(house, isbnNum):\n",
    "    values = list()\n",
    "    try:\n",
    "        #isbn\n",
    "        isbnBlock = driver.find_element_by_css_selector('#infoset_specific > div.infoSetCont_wrap > div > table > tbody > tr:nth-child(3) > td')\n",
    "        if isbnBlock:\n",
    "            print('isbn found')\n",
    "            isbnNum = isbnBlock.text\n",
    "            print(isbnNum)\n",
    "            \n",
    "        reviewPageNum = 4\n",
    "        for i in range(4):\n",
    "            print('review {} page'.format(i+1))\n",
    "            fiveReview(house, isbnNum)\n",
    "            nextReview = driver.find_element_by_css_selector(f'#infoset_reviewContentList > div.review_sort.sortBot > div.review_sortLft > div > a:nth-child({reviewPageNum})')\n",
    "            if nextReview:\n",
    "                nextReviewClick = ActionChains(driver).move_to_element(nextReview).click()\n",
    "                nextReviewClick.perform()\n",
    "                time.sleep(10)\n",
    "                print('successfully clicked next page')\n",
    "                reviewPageNum = reviewPageNum + 1\n",
    "            \n",
    "    except Exception as e:\n",
    "        print(e)"
   ]
  },
  {
   "cell_type": "code",
   "execution_count": 5,
   "id": "7f20c584",
   "metadata": {},
   "outputs": [],
   "source": [
    "def forOnePage(house, isbnNum):\n",
    "    for i in range(10):\n",
    "        oddNum = 2*i + 1\n",
    "        try:\n",
    "            whichBook = driver.find_element_by_css_selector(f'#category_layout > tbody > tr:nth-child({oddNum}) > td.goodsTxtInfo > p.review > a')\n",
    "            if whichBook:\n",
    "                print(f'{i} book found')\n",
    "\n",
    "                #check how many reviews\n",
    "                reviewCnt = int(whichBook.text[:-1])\n",
    "                print('review : ', reviewCnt)\n",
    "\n",
    "                if reviewCnt < 20:\n",
    "                    print('less than 20')\n",
    "                    continue\n",
    "\n",
    "                actions = ActionChains(driver).move_to_element(whichBook).click()\n",
    "                actions.perform()\n",
    "                crawlReview(house, isbnNum)\n",
    "            else:\n",
    "                continue\n",
    "                \n",
    "        except Exception as e:\n",
    "            print(e)\n",
    "\n",
    "        driver.back()"
   ]
  },
  {
   "cell_type": "code",
   "execution_count": 6,
   "id": "df93a660",
   "metadata": {},
   "outputs": [
    {
     "name": "stdout",
     "output_type": "stream",
     "text": [
      "pageNum :  6\n",
      "0 book found\n",
      "review :  2\n",
      "less than 20\n",
      "1 book found\n",
      "review :  12\n",
      "less than 20\n",
      "2 book found\n",
      "review :  75\n",
      "isbn found\n",
      "9791187297239\n",
      "review 1 page\n",
      "reviewBlock found\n",
      "each review found\n",
      "successfully clicked btn\n",
      "each review found\n",
      "successfully clicked btn\n",
      "Message: no such window: window was already closed\n",
      "  (Session info: chrome=92.0.4515.107)\n",
      "\n",
      "Message: no such window: window was already closed\n",
      "  (Session info: chrome=92.0.4515.107)\n",
      "\n"
     ]
    }
   ],
   "source": [
    "options = Options()\n",
    "#options.add_argument(\"headless\")\n",
    "options.add_argument('start-maximized')\n",
    "options.add_argument('disable-infobars')\n",
    "options.add_experimental_option(\"useAutomationExtension\", False)\n",
    "options.add_experimental_option(\"excludeSwitches\",[\"enable-automation\"])\n",
    "driver = webdriver.Chrome(options=options, executable_path='chromedriver 위치 입력')\n",
    "\n",
    "try:\n",
    "    values = list()\n",
    "    isbn = 0\n",
    "    pageNum = 6\n",
    "    \n",
    "    while(True):\n",
    "        if pageNum==11:\n",
    "            break\n",
    "        \n",
    "        print('pageNum : ', pageNum)\n",
    "        #open yes24 page\n",
    "        driver.get(f'http://www.yes24.com/24/category/bestseller?CategoryNumber=001001047&sumgb=06&PageNumber={pageNum}')\n",
    "        forOnePage(values, isbn)\n",
    "        pageNum = pageNum + 1\n",
    "        \n",
    "except Exception as e:\n",
    "    print(e)"
   ]
  },
  {
   "cell_type": "code",
   "execution_count": 7,
   "id": "131845f0",
   "metadata": {},
   "outputs": [
    {
     "name": "stdout",
     "output_type": "stream",
     "text": [
      "          ISBN13                                             review\n",
      "0  9791196797706                                                   \n",
      "1  9791196797706  글배우님의 책. \\n저번에 읽었던 글배우님의 책 '모든 날 모든 순간에 위로를 보낸...\n",
      "2  9791196797706  일, 인간관계 등으로 인해 지쳐서\\n내가 좋아하는거를 해도 기분이 좋아지지 않았을때...\n",
      "3  9791196797706  기억담기\\n지쳤거나 좋아하는게 없거나\\n\\n1부\\n넘어지고 일어서기를 반복하겠지만 ...\n",
      "4  9791196797706  제목에서 느껴지는 것 처럼 글배우님의 솔직한 이야기가 담겨있다. 지쳐도 지쳤다 말하...\n"
     ]
    }
   ],
   "source": [
    "#store values in dataframe\n",
    "df = pd.DataFrame(values, columns=['ISBN13', 'review'])\n",
    "print(df.head(5))"
   ]
  },
  {
   "cell_type": "code",
   "execution_count": 8,
   "id": "fefa79b1",
   "metadata": {},
   "outputs": [],
   "source": [
    "#dataframe to csv\n",
    "df.to_csv('yes24Review_EssayP6_10.csv', encoding='utf-8-sig', index=False)"
   ]
  },
  {
   "cell_type": "code",
   "execution_count": 120,
   "id": "d3b41da8",
   "metadata": {},
   "outputs": [
    {
     "data": {
      "text/plain": [
       "'\\ndef reviewPos():\\n    #-----go to review position-----\\n    #scroll down 1000\\n    driver.execute_script(\"window.scrollTo(0, 1000)\")\\n    #find the review tab\\n    reviewTab = driver.find_element_by_css_selector(\\'#yDetailTabNavWrap > div > div.gd_tabBar > ul > li:nth-child(2) > a\\')\\n    if reviewTab:\\n        print(\\'reveiwTab found\\')\\n        #click\\n        reviewTabClick = ActionChains(driver).move_to_element(reviewTab).click()\\n        reviewTabClick.perform()\\n\\n        driver.execute_script(\"window.scrollTo(0, window.scrollY + 500);\")\\n    #------------------------  \\n'"
      ]
     },
     "execution_count": 120,
     "metadata": {},
     "output_type": "execute_result"
    }
   ],
   "source": [
    "'''\n",
    "def reviewPos():\n",
    "    #-----go to review position-----\n",
    "    #scroll down 1000\n",
    "    driver.execute_script(\"window.scrollTo(0, 1000)\")\n",
    "    #find the review tab\n",
    "    reviewTab = driver.find_element_by_css_selector('#yDetailTabNavWrap > div > div.gd_tabBar > ul > li:nth-child(2) > a')\n",
    "    if reviewTab:\n",
    "        print('reveiwTab found')\n",
    "        #click\n",
    "        reviewTabClick = ActionChains(driver).move_to_element(reviewTab).click()\n",
    "        reviewTabClick.perform()\n",
    "\n",
    "        driver.execute_script(\"window.scrollTo(0, window.scrollY + 500);\")\n",
    "    #------------------------  \n",
    "'''"
   ]
  }
 ],
 "metadata": {
  "kernelspec": {
   "display_name": "Python 3",
   "language": "python",
   "name": "python3"
  },
  "language_info": {
   "codemirror_mode": {
    "name": "ipython",
    "version": 3
   },
   "file_extension": ".py",
   "mimetype": "text/x-python",
   "name": "python",
   "nbconvert_exporter": "python",
   "pygments_lexer": "ipython3",
   "version": "3.8.8"
  }
 },
 "nbformat": 4,
 "nbformat_minor": 5
}
