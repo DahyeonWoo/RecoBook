{
 "cells": [
  {
   "cell_type": "code",
   "execution_count": 1,
   "source": [
    "array = ['1', '2', '3', '4']\r\n",
    "a = ','.join(array)\r\n",
    "print(a)"
   ],
   "outputs": [
    {
     "output_type": "stream",
     "name": "stdout",
     "text": [
      "1,2,3,4\n"
     ]
    }
   ],
   "metadata": {}
  },
  {
   "cell_type": "code",
   "execution_count": 3,
   "source": [
    "sen = \"밤의 여행자들,미움받을 용기,미움받을 용기,미움받을 용기\"\r\n",
    "print(sen.split(','))"
   ],
   "outputs": [
    {
     "output_type": "stream",
     "name": "stdout",
     "text": [
      "['밤의 여행자들', '미움받을 용기', '미움받을 용기', '미움받을 용기']\n"
     ]
    }
   ],
   "metadata": {}
  },
  {
   "cell_type": "code",
   "execution_count": 2,
   "source": [
    "string = ';ds;gw;as;asd;'\r\n",
    "list_ = string.split(';')\r\n",
    "print(list_)"
   ],
   "outputs": [
    {
     "output_type": "stream",
     "name": "stdout",
     "text": [
      "['', 'ds', 'gw', 'as', 'asd', '']\n"
     ]
    }
   ],
   "metadata": {}
  },
  {
   "cell_type": "code",
   "execution_count": 3,
   "source": [
    "from collections import Counter\r\n",
    "def remove_values_from_list(the_list, val):\r\n",
    "   return [value for value in the_list if value != val]\r\n",
    "\r\n",
    "res = remove_values_from_list(list_, '')\r\n",
    "print(res)\r\n",
    "c = Counter(res)\r\n",
    "top3 = c.most_common(3)\r\n",
    "print(top3)\r\n"
   ],
   "outputs": [
    {
     "output_type": "stream",
     "name": "stdout",
     "text": [
      "[('ds', 1), ('gw', 1), ('as', 1)]\n",
      "['ds', 'gw', 'as', 'asd']\n"
     ]
    }
   ],
   "metadata": {}
  },
  {
   "cell_type": "code",
   "execution_count": null,
   "source": [],
   "outputs": [],
   "metadata": {}
  }
 ],
 "metadata": {
  "orig_nbformat": 4,
  "language_info": {
   "name": "python",
   "version": "3.8.10",
   "mimetype": "text/x-python",
   "codemirror_mode": {
    "name": "ipython",
    "version": 3
   },
   "pygments_lexer": "ipython3",
   "nbconvert_exporter": "python",
   "file_extension": ".py"
  },
  "kernelspec": {
   "name": "python3",
   "display_name": "Python 3.8.10 64-bit ('base': conda)"
  },
  "interpreter": {
   "hash": "b3ba2566441a7c06988d0923437866b63cedc61552a5af99d1f4fb67d367b25f"
  }
 },
 "nbformat": 4,
 "nbformat_minor": 2
}