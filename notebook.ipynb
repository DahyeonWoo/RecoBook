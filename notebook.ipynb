{
 "cells": [
  {
   "cell_type": "code",
   "execution_count": 1,
   "source": [
    "import pandas as pd\r\n",
    "df = pd.read_json('refined_description.json', orient='index', convert_axes=False)\r\n",
    "df"
   ],
   "outputs": [
    {
     "output_type": "execute_result",
     "data": {
      "text/plain": [
       "               isbn                                              title  \\\n",
       "0     9771197225987                                     흘러가는 구름을 동경하였다   \n",
       "1     9772586200006                            장애와 테크놀로지 - 과학잡지 에피 16호   \n",
       "2     9772586200211                               식물의 과학 - 과학잡지 에피 17호   \n",
       "3     9772733807003                       에픽 #04 - BELOVED, 2021.7.8.9   \n",
       "4     9772765656006                            오늘의 좋은 소설 2021.가을 - 58호   \n",
       "...             ...                                                ...   \n",
       "5954  9791197556609                                          왓더? 오디오 1   \n",
       "5955  9791197558009      오늘의 어린이책 1 - 다움북클럽이 고른 성평등 어린이·청소년책 2019-2021   \n",
       "5956  9791197559105  괜찮아, 아빠도 쉽진 않더라 - 오늘을 살아가는 우리 모두를 위한 동화, &lt;퇴...   \n",
       "5957  9791197566400                                       미래를 향한 노스탤지어   \n",
       "5958  9791197578410          채사장의 지대넓얕 1 : 권력의 탄생 - 지적 대화를 위한 넓고 얕은 지식   \n",
       "\n",
       "                                                 author  \\\n",
       "0           김시탁, 김일태, 민창홍, 성선경, 이강휘, 이기영, 이달균, 이서린, 이월춘   \n",
       "1     김초엽, 김원영, 김상희, 유기훈, 이주현, 류성두, 명수민, 킴 포춘, 전치형, ...   \n",
       "2     강연실, 허준이, 금종해, 안수지, 이상엽, 남재환, 황승식, 장진성, 박찬열, 강...   \n",
       "3     임현, 임철홍, 에밀리 정민 윤, 이정식, 임소라, 김대성, 박하빈, 염은영, 김혜...   \n",
       "4                                김현, 서정아, 이미욱, 이태형, 정미형   \n",
       "...                                                 ...   \n",
       "5954                                최윤욱, 김연승, 최창림 (디자인)   \n",
       "5955                                             다움북클럽    \n",
       "5956                                                문수림   \n",
       "5957                                                신미로   \n",
       "5958                                     채사장, 마케마케, 정용환   \n",
       "\n",
       "                                            description  \n",
       "0     시문학연구회 하로동선의 여섯 번째 동인지 지금까지 현대시의 새로운 방향성을 탐구해 ...  \n",
       "1     에피 16호 키워드 숨 섹션은 장애와 테크놀로지를 주제로 삼았다 기술의 발전이 장애...  \n",
       "2     과학비평 계간지 에피 17호는 식물의 과학을 다루며 17편의 글을 담았다 식물을 나...  \n",
       "3     4호의 제호는 이다 1988년 퓰리처상 수상작이기도 한 토니 모리슨의 장편 빌러비드...  \n",
       "4     오늘의 좋은 소설은 간단하다 무겁지도 어렵지도 않다 어떤 장식과 해설도 하지 않고 ...  \n",
       "...                                                 ...  \n",
       "5954  만화는 여주인공인 수진이가 이어폰으로 음악을 듣다가 귀에 이명이 와서 스피커를 통해...  \n",
       "5955  다시 시작하는 다움북클럽이 고른 성평등 어린이청소년책 목록 20192021은 기존 ...  \n",
       "5956  여기 마흔 한 살에 아빠가 된 무명 작가가 있다 대중에게 인식되지 못할 정도의 글솜...  \n",
       "5957  불길한 죽음의 예감 때문에 시작된 여행 그 수많은 여행에서 내가 가장 멀리까지 가본...  \n",
       "5958  인문학 분야 트리플 밀리언셀러 지적 대화를 위한 넓고 얕은 지식의 핵심 주제를 스토...  \n",
       "\n",
       "[5959 rows x 4 columns]"
      ],
      "text/html": [
       "<div>\n",
       "<style scoped>\n",
       "    .dataframe tbody tr th:only-of-type {\n",
       "        vertical-align: middle;\n",
       "    }\n",
       "\n",
       "    .dataframe tbody tr th {\n",
       "        vertical-align: top;\n",
       "    }\n",
       "\n",
       "    .dataframe thead th {\n",
       "        text-align: right;\n",
       "    }\n",
       "</style>\n",
       "<table border=\"1\" class=\"dataframe\">\n",
       "  <thead>\n",
       "    <tr style=\"text-align: right;\">\n",
       "      <th></th>\n",
       "      <th>isbn</th>\n",
       "      <th>title</th>\n",
       "      <th>author</th>\n",
       "      <th>description</th>\n",
       "    </tr>\n",
       "  </thead>\n",
       "  <tbody>\n",
       "    <tr>\n",
       "      <th>0</th>\n",
       "      <td>9771197225987</td>\n",
       "      <td>흘러가는 구름을 동경하였다</td>\n",
       "      <td>김시탁, 김일태, 민창홍, 성선경, 이강휘, 이기영, 이달균, 이서린, 이월춘</td>\n",
       "      <td>시문학연구회 하로동선의 여섯 번째 동인지 지금까지 현대시의 새로운 방향성을 탐구해 ...</td>\n",
       "    </tr>\n",
       "    <tr>\n",
       "      <th>1</th>\n",
       "      <td>9772586200006</td>\n",
       "      <td>장애와 테크놀로지 - 과학잡지 에피 16호</td>\n",
       "      <td>김초엽, 김원영, 김상희, 유기훈, 이주현, 류성두, 명수민, 킴 포춘, 전치형, ...</td>\n",
       "      <td>에피 16호 키워드 숨 섹션은 장애와 테크놀로지를 주제로 삼았다 기술의 발전이 장애...</td>\n",
       "    </tr>\n",
       "    <tr>\n",
       "      <th>2</th>\n",
       "      <td>9772586200211</td>\n",
       "      <td>식물의 과학 - 과학잡지 에피 17호</td>\n",
       "      <td>강연실, 허준이, 금종해, 안수지, 이상엽, 남재환, 황승식, 장진성, 박찬열, 강...</td>\n",
       "      <td>과학비평 계간지 에피 17호는 식물의 과학을 다루며 17편의 글을 담았다 식물을 나...</td>\n",
       "    </tr>\n",
       "    <tr>\n",
       "      <th>3</th>\n",
       "      <td>9772733807003</td>\n",
       "      <td>에픽 #04 - BELOVED, 2021.7.8.9</td>\n",
       "      <td>임현, 임철홍, 에밀리 정민 윤, 이정식, 임소라, 김대성, 박하빈, 염은영, 김혜...</td>\n",
       "      <td>4호의 제호는 이다 1988년 퓰리처상 수상작이기도 한 토니 모리슨의 장편 빌러비드...</td>\n",
       "    </tr>\n",
       "    <tr>\n",
       "      <th>4</th>\n",
       "      <td>9772765656006</td>\n",
       "      <td>오늘의 좋은 소설 2021.가을 - 58호</td>\n",
       "      <td>김현, 서정아, 이미욱, 이태형, 정미형</td>\n",
       "      <td>오늘의 좋은 소설은 간단하다 무겁지도 어렵지도 않다 어떤 장식과 해설도 하지 않고 ...</td>\n",
       "    </tr>\n",
       "    <tr>\n",
       "      <th>...</th>\n",
       "      <td>...</td>\n",
       "      <td>...</td>\n",
       "      <td>...</td>\n",
       "      <td>...</td>\n",
       "    </tr>\n",
       "    <tr>\n",
       "      <th>5954</th>\n",
       "      <td>9791197556609</td>\n",
       "      <td>왓더? 오디오 1</td>\n",
       "      <td>최윤욱, 김연승, 최창림 (디자인)</td>\n",
       "      <td>만화는 여주인공인 수진이가 이어폰으로 음악을 듣다가 귀에 이명이 와서 스피커를 통해...</td>\n",
       "    </tr>\n",
       "    <tr>\n",
       "      <th>5955</th>\n",
       "      <td>9791197558009</td>\n",
       "      <td>오늘의 어린이책 1 - 다움북클럽이 고른 성평등 어린이·청소년책 2019-2021</td>\n",
       "      <td>다움북클럽</td>\n",
       "      <td>다시 시작하는 다움북클럽이 고른 성평등 어린이청소년책 목록 20192021은 기존 ...</td>\n",
       "    </tr>\n",
       "    <tr>\n",
       "      <th>5956</th>\n",
       "      <td>9791197559105</td>\n",
       "      <td>괜찮아, 아빠도 쉽진 않더라 - 오늘을 살아가는 우리 모두를 위한 동화, &amp;lt;퇴...</td>\n",
       "      <td>문수림</td>\n",
       "      <td>여기 마흔 한 살에 아빠가 된 무명 작가가 있다 대중에게 인식되지 못할 정도의 글솜...</td>\n",
       "    </tr>\n",
       "    <tr>\n",
       "      <th>5957</th>\n",
       "      <td>9791197566400</td>\n",
       "      <td>미래를 향한 노스탤지어</td>\n",
       "      <td>신미로</td>\n",
       "      <td>불길한 죽음의 예감 때문에 시작된 여행 그 수많은 여행에서 내가 가장 멀리까지 가본...</td>\n",
       "    </tr>\n",
       "    <tr>\n",
       "      <th>5958</th>\n",
       "      <td>9791197578410</td>\n",
       "      <td>채사장의 지대넓얕 1 : 권력의 탄생 - 지적 대화를 위한 넓고 얕은 지식</td>\n",
       "      <td>채사장, 마케마케, 정용환</td>\n",
       "      <td>인문학 분야 트리플 밀리언셀러 지적 대화를 위한 넓고 얕은 지식의 핵심 주제를 스토...</td>\n",
       "    </tr>\n",
       "  </tbody>\n",
       "</table>\n",
       "<p>5959 rows × 4 columns</p>\n",
       "</div>"
      ]
     },
     "metadata": {},
     "execution_count": 1
    }
   ],
   "metadata": {}
  },
  {
   "cell_type": "code",
   "execution_count": 2,
   "source": [
    "import torch\r\n",
    "print(torch.__version__)\r\n",
    "print(torch.cuda.is_available())"
   ],
   "outputs": [
    {
     "output_type": "stream",
     "name": "stdout",
     "text": [
      "1.8.0\n",
      "True\n"
     ]
    }
   ],
   "metadata": {}
  },
  {
   "cell_type": "code",
   "execution_count": 6,
   "source": [
    "from sentence_transformers import SentenceTransformer\r\n",
    "model = SentenceTransformer('multi-qa-MiniLM-L6-cos-v1')"
   ],
   "outputs": [
    {
     "output_type": "stream",
     "name": "stderr",
     "text": [
      "Exception when trying to download https://public.ukp.informatik.tu-darmstadt.de/reimers/sentence-transformers/v0.2/multi-qa-MiniLM-L6-cos-v1.zip. Response 404\n"
     ]
    },
    {
     "output_type": "error",
     "ename": "HTTPError",
     "evalue": "404 Client Error: Not Found for url: https://public.ukp.informatik.tu-darmstadt.de/reimers/sentence-transformers/v0.2/multi-qa-MiniLM-L6-cos-v1.zip",
     "traceback": [
      "\u001b[1;31m---------------------------------------------------------------------------\u001b[0m",
      "\u001b[1;31mHTTPError\u001b[0m                                 Traceback (most recent call last)",
      "\u001b[1;32mC:\\Users\\S_CWRY~1\\AppData\\Local\\Temp/ipykernel_9728/772847464.py\u001b[0m in \u001b[0;36m<module>\u001b[1;34m\u001b[0m\n\u001b[0;32m      1\u001b[0m \u001b[1;32mfrom\u001b[0m \u001b[0msentence_transformers\u001b[0m \u001b[1;32mimport\u001b[0m \u001b[0mSentenceTransformer\u001b[0m\u001b[1;33m\u001b[0m\u001b[1;33m\u001b[0m\u001b[0m\n\u001b[1;32m----> 2\u001b[1;33m \u001b[0mmodel\u001b[0m \u001b[1;33m=\u001b[0m \u001b[0mSentenceTransformer\u001b[0m\u001b[1;33m(\u001b[0m\u001b[1;34m'multi-qa-MiniLM-L6-cos-v1'\u001b[0m\u001b[1;33m)\u001b[0m\u001b[1;33m\u001b[0m\u001b[1;33m\u001b[0m\u001b[0m\n\u001b[0m",
      "\u001b[1;32m~\\.conda\\envs\\bookcode\\lib\\site-packages\\sentence_transformers\\SentenceTransformer.py\u001b[0m in \u001b[0;36m__init__\u001b[1;34m(self, model_name_or_path, modules, device)\u001b[0m\n\u001b[0;32m     59\u001b[0m                     \u001b[1;32mexcept\u001b[0m \u001b[0mException\u001b[0m \u001b[1;32mas\u001b[0m \u001b[0me\u001b[0m\u001b[1;33m:\u001b[0m\u001b[1;33m\u001b[0m\u001b[1;33m\u001b[0m\u001b[0m\n\u001b[0;32m     60\u001b[0m                         \u001b[0mshutil\u001b[0m\u001b[1;33m.\u001b[0m\u001b[0mrmtree\u001b[0m\u001b[1;33m(\u001b[0m\u001b[0mmodel_path\u001b[0m\u001b[1;33m)\u001b[0m\u001b[1;33m\u001b[0m\u001b[1;33m\u001b[0m\u001b[0m\n\u001b[1;32m---> 61\u001b[1;33m                         \u001b[1;32mraise\u001b[0m \u001b[0me\u001b[0m\u001b[1;33m\u001b[0m\u001b[1;33m\u001b[0m\u001b[0m\n\u001b[0m\u001b[0;32m     62\u001b[0m             \u001b[1;32melse\u001b[0m\u001b[1;33m:\u001b[0m\u001b[1;33m\u001b[0m\u001b[1;33m\u001b[0m\u001b[0m\n\u001b[0;32m     63\u001b[0m                 \u001b[0mmodel_path\u001b[0m \u001b[1;33m=\u001b[0m \u001b[0mmodel_name_or_path\u001b[0m\u001b[1;33m\u001b[0m\u001b[1;33m\u001b[0m\u001b[0m\n",
      "\u001b[1;32m~\\.conda\\envs\\bookcode\\lib\\site-packages\\sentence_transformers\\SentenceTransformer.py\u001b[0m in \u001b[0;36m__init__\u001b[1;34m(self, model_name_or_path, modules, device)\u001b[0m\n\u001b[0;32m     54\u001b[0m                     \u001b[1;32mtry\u001b[0m\u001b[1;33m:\u001b[0m\u001b[1;33m\u001b[0m\u001b[1;33m\u001b[0m\u001b[0m\n\u001b[0;32m     55\u001b[0m                         \u001b[0mzip_save_path\u001b[0m \u001b[1;33m=\u001b[0m \u001b[0mos\u001b[0m\u001b[1;33m.\u001b[0m\u001b[0mpath\u001b[0m\u001b[1;33m.\u001b[0m\u001b[0mjoin\u001b[0m\u001b[1;33m(\u001b[0m\u001b[0mmodel_path\u001b[0m\u001b[1;33m,\u001b[0m \u001b[1;34m'model.zip'\u001b[0m\u001b[1;33m)\u001b[0m\u001b[1;33m\u001b[0m\u001b[1;33m\u001b[0m\u001b[0m\n\u001b[1;32m---> 56\u001b[1;33m                         \u001b[0mhttp_get\u001b[0m\u001b[1;33m(\u001b[0m\u001b[0mmodel_url\u001b[0m\u001b[1;33m,\u001b[0m \u001b[0mzip_save_path\u001b[0m\u001b[1;33m)\u001b[0m\u001b[1;33m\u001b[0m\u001b[1;33m\u001b[0m\u001b[0m\n\u001b[0m\u001b[0;32m     57\u001b[0m                         \u001b[1;32mwith\u001b[0m \u001b[0mZipFile\u001b[0m\u001b[1;33m(\u001b[0m\u001b[0mzip_save_path\u001b[0m\u001b[1;33m,\u001b[0m \u001b[1;34m'r'\u001b[0m\u001b[1;33m)\u001b[0m \u001b[1;32mas\u001b[0m \u001b[0mzip\u001b[0m\u001b[1;33m:\u001b[0m\u001b[1;33m\u001b[0m\u001b[1;33m\u001b[0m\u001b[0m\n\u001b[0;32m     58\u001b[0m                             \u001b[0mzip\u001b[0m\u001b[1;33m.\u001b[0m\u001b[0mextractall\u001b[0m\u001b[1;33m(\u001b[0m\u001b[0mmodel_path\u001b[0m\u001b[1;33m)\u001b[0m\u001b[1;33m\u001b[0m\u001b[1;33m\u001b[0m\u001b[0m\n",
      "\u001b[1;32m~\\.conda\\envs\\bookcode\\lib\\site-packages\\sentence_transformers\\util.py\u001b[0m in \u001b[0;36mhttp_get\u001b[1;34m(url, path)\u001b[0m\n\u001b[0;32m     30\u001b[0m         \u001b[1;32mif\u001b[0m \u001b[0mreq\u001b[0m\u001b[1;33m.\u001b[0m\u001b[0mstatus_code\u001b[0m \u001b[1;33m!=\u001b[0m \u001b[1;36m200\u001b[0m\u001b[1;33m:\u001b[0m\u001b[1;33m\u001b[0m\u001b[1;33m\u001b[0m\u001b[0m\n\u001b[0;32m     31\u001b[0m             \u001b[0mprint\u001b[0m\u001b[1;33m(\u001b[0m\u001b[1;34m\"Exception when trying to download {}. Response {}\"\u001b[0m\u001b[1;33m.\u001b[0m\u001b[0mformat\u001b[0m\u001b[1;33m(\u001b[0m\u001b[0murl\u001b[0m\u001b[1;33m,\u001b[0m \u001b[0mreq\u001b[0m\u001b[1;33m.\u001b[0m\u001b[0mstatus_code\u001b[0m\u001b[1;33m)\u001b[0m\u001b[1;33m,\u001b[0m \u001b[0mfile\u001b[0m\u001b[1;33m=\u001b[0m\u001b[0msys\u001b[0m\u001b[1;33m.\u001b[0m\u001b[0mstderr\u001b[0m\u001b[1;33m)\u001b[0m\u001b[1;33m\u001b[0m\u001b[1;33m\u001b[0m\u001b[0m\n\u001b[1;32m---> 32\u001b[1;33m             \u001b[0mreq\u001b[0m\u001b[1;33m.\u001b[0m\u001b[0mraise_for_status\u001b[0m\u001b[1;33m(\u001b[0m\u001b[1;33m)\u001b[0m\u001b[1;33m\u001b[0m\u001b[1;33m\u001b[0m\u001b[0m\n\u001b[0m\u001b[0;32m     33\u001b[0m \u001b[1;33m\u001b[0m\u001b[0m\n\u001b[0;32m     34\u001b[0m         \u001b[0mcontent_length\u001b[0m \u001b[1;33m=\u001b[0m \u001b[0mreq\u001b[0m\u001b[1;33m.\u001b[0m\u001b[0mheaders\u001b[0m\u001b[1;33m.\u001b[0m\u001b[0mget\u001b[0m\u001b[1;33m(\u001b[0m\u001b[1;34m'Content-Length'\u001b[0m\u001b[1;33m)\u001b[0m\u001b[1;33m\u001b[0m\u001b[1;33m\u001b[0m\u001b[0m\n",
      "\u001b[1;32m~\\.conda\\envs\\bookcode\\lib\\site-packages\\requests\\models.py\u001b[0m in \u001b[0;36mraise_for_status\u001b[1;34m(self)\u001b[0m\n\u001b[0;32m    951\u001b[0m \u001b[1;33m\u001b[0m\u001b[0m\n\u001b[0;32m    952\u001b[0m         \u001b[1;32mif\u001b[0m \u001b[0mhttp_error_msg\u001b[0m\u001b[1;33m:\u001b[0m\u001b[1;33m\u001b[0m\u001b[1;33m\u001b[0m\u001b[0m\n\u001b[1;32m--> 953\u001b[1;33m             \u001b[1;32mraise\u001b[0m \u001b[0mHTTPError\u001b[0m\u001b[1;33m(\u001b[0m\u001b[0mhttp_error_msg\u001b[0m\u001b[1;33m,\u001b[0m \u001b[0mresponse\u001b[0m\u001b[1;33m=\u001b[0m\u001b[0mself\u001b[0m\u001b[1;33m)\u001b[0m\u001b[1;33m\u001b[0m\u001b[1;33m\u001b[0m\u001b[0m\n\u001b[0m\u001b[0;32m    954\u001b[0m \u001b[1;33m\u001b[0m\u001b[0m\n\u001b[0;32m    955\u001b[0m     \u001b[1;32mdef\u001b[0m \u001b[0mclose\u001b[0m\u001b[1;33m(\u001b[0m\u001b[0mself\u001b[0m\u001b[1;33m)\u001b[0m\u001b[1;33m:\u001b[0m\u001b[1;33m\u001b[0m\u001b[1;33m\u001b[0m\u001b[0m\n",
      "\u001b[1;31mHTTPError\u001b[0m: 404 Client Error: Not Found for url: https://public.ukp.informatik.tu-darmstadt.de/reimers/sentence-transformers/v0.2/multi-qa-MiniLM-L6-cos-v1.zip"
     ]
    }
   ],
   "metadata": {}
  },
  {
   "cell_type": "code",
   "execution_count": null,
   "source": [],
   "outputs": [],
   "metadata": {}
  },
  {
   "cell_type": "code",
   "execution_count": 3,
   "source": [
    "from sentence_transformers import SentenceTransformer, util\r\n",
    "import numpy as np\r\n",
    "\r\n",
    "model_path = './KoSentenceBERT_SKT/output/training_sts/'\r\n",
    "\r\n",
    "embedder = SentenceTransformer(model_path)"
   ],
   "outputs": [
    {
     "output_type": "stream",
     "name": "stderr",
     "text": [
      "WARNING:root:You try to use a model that was created with version 0.3.6, however, your version is 0.2.6. This might cause unexpected behavior or errors. In that case, try to update to the latest version.\n",
      "\n",
      "\n",
      "\n"
     ]
    },
    {
     "output_type": "error",
     "ename": "FileNotFoundError",
     "evalue": "[Errno 2] No such file or directory: './KoSentenceBERT_SKT/output/training_sts/0_Transformer\\\\sentence_bert_config.json'",
     "traceback": [
      "\u001b[1;31m---------------------------------------------------------------------------\u001b[0m",
      "\u001b[1;31mFileNotFoundError\u001b[0m                         Traceback (most recent call last)",
      "\u001b[1;32mC:\\Users\\S_CWRY~1\\AppData\\Local\\Temp/ipykernel_9728/1761143529.py\u001b[0m in \u001b[0;36m<module>\u001b[1;34m\u001b[0m\n\u001b[0;32m      4\u001b[0m \u001b[0mmodel_path\u001b[0m \u001b[1;33m=\u001b[0m \u001b[1;34m'./KoSentenceBERT_SKT/output/training_sts/'\u001b[0m\u001b[1;33m\u001b[0m\u001b[1;33m\u001b[0m\u001b[0m\n\u001b[0;32m      5\u001b[0m \u001b[1;33m\u001b[0m\u001b[0m\n\u001b[1;32m----> 6\u001b[1;33m \u001b[0membedder\u001b[0m \u001b[1;33m=\u001b[0m \u001b[0mSentenceTransformer\u001b[0m\u001b[1;33m(\u001b[0m\u001b[0mmodel_path\u001b[0m\u001b[1;33m)\u001b[0m\u001b[1;33m\u001b[0m\u001b[1;33m\u001b[0m\u001b[0m\n\u001b[0m",
      "\u001b[1;32m~\\.conda\\envs\\bookcode\\lib\\site-packages\\sentence_transformers\\SentenceTransformer.py\u001b[0m in \u001b[0;36m__init__\u001b[1;34m(self, model_name_or_path, modules, device)\u001b[0m\n\u001b[0;32m     79\u001b[0m                 \u001b[1;32mfor\u001b[0m \u001b[0mmodule_config\u001b[0m \u001b[1;32min\u001b[0m \u001b[0mcontained_modules\u001b[0m\u001b[1;33m:\u001b[0m\u001b[1;33m\u001b[0m\u001b[1;33m\u001b[0m\u001b[0m\n\u001b[0;32m     80\u001b[0m                     \u001b[0mmodule_class\u001b[0m \u001b[1;33m=\u001b[0m \u001b[0mimport_from_string\u001b[0m\u001b[1;33m(\u001b[0m\u001b[0mmodule_config\u001b[0m\u001b[1;33m[\u001b[0m\u001b[1;34m'type'\u001b[0m\u001b[1;33m]\u001b[0m\u001b[1;33m)\u001b[0m\u001b[1;33m\u001b[0m\u001b[1;33m\u001b[0m\u001b[0m\n\u001b[1;32m---> 81\u001b[1;33m                     \u001b[0mmodule\u001b[0m \u001b[1;33m=\u001b[0m \u001b[0mmodule_class\u001b[0m\u001b[1;33m.\u001b[0m\u001b[0mload\u001b[0m\u001b[1;33m(\u001b[0m\u001b[0mos\u001b[0m\u001b[1;33m.\u001b[0m\u001b[0mpath\u001b[0m\u001b[1;33m.\u001b[0m\u001b[0mjoin\u001b[0m\u001b[1;33m(\u001b[0m\u001b[0mmodel_path\u001b[0m\u001b[1;33m,\u001b[0m \u001b[0mmodule_config\u001b[0m\u001b[1;33m[\u001b[0m\u001b[1;34m'path'\u001b[0m\u001b[1;33m]\u001b[0m\u001b[1;33m)\u001b[0m\u001b[1;33m)\u001b[0m\u001b[1;33m\u001b[0m\u001b[1;33m\u001b[0m\u001b[0m\n\u001b[0m\u001b[0;32m     82\u001b[0m                     \u001b[0mmodules\u001b[0m\u001b[1;33m[\u001b[0m\u001b[0mmodule_config\u001b[0m\u001b[1;33m[\u001b[0m\u001b[1;34m'name'\u001b[0m\u001b[1;33m]\u001b[0m\u001b[1;33m]\u001b[0m \u001b[1;33m=\u001b[0m \u001b[0mmodule\u001b[0m\u001b[1;33m\u001b[0m\u001b[1;33m\u001b[0m\u001b[0m\n\u001b[0;32m     83\u001b[0m \u001b[1;33m\u001b[0m\u001b[0m\n",
      "\u001b[1;32m~\\.conda\\envs\\bookcode\\lib\\site-packages\\sentence_transformers\\models\\Transformer.py\u001b[0m in \u001b[0;36mload\u001b[1;34m(input_path)\u001b[0m\n\u001b[0;32m     73\u001b[0m     \u001b[1;33m@\u001b[0m\u001b[0mstaticmethod\u001b[0m\u001b[1;33m\u001b[0m\u001b[1;33m\u001b[0m\u001b[0m\n\u001b[0;32m     74\u001b[0m     \u001b[1;32mdef\u001b[0m \u001b[0mload\u001b[0m\u001b[1;33m(\u001b[0m\u001b[0minput_path\u001b[0m\u001b[1;33m:\u001b[0m \u001b[0mstr\u001b[0m\u001b[1;33m)\u001b[0m\u001b[1;33m:\u001b[0m\u001b[1;33m\u001b[0m\u001b[1;33m\u001b[0m\u001b[0m\n\u001b[1;32m---> 75\u001b[1;33m         \u001b[1;32mwith\u001b[0m \u001b[0mopen\u001b[0m\u001b[1;33m(\u001b[0m\u001b[0mos\u001b[0m\u001b[1;33m.\u001b[0m\u001b[0mpath\u001b[0m\u001b[1;33m.\u001b[0m\u001b[0mjoin\u001b[0m\u001b[1;33m(\u001b[0m\u001b[0minput_path\u001b[0m\u001b[1;33m,\u001b[0m \u001b[1;34m'sentence_bert_config.json'\u001b[0m\u001b[1;33m)\u001b[0m\u001b[1;33m)\u001b[0m \u001b[1;32mas\u001b[0m \u001b[0mfIn\u001b[0m\u001b[1;33m:\u001b[0m\u001b[1;33m\u001b[0m\u001b[1;33m\u001b[0m\u001b[0m\n\u001b[0m\u001b[0;32m     76\u001b[0m             \u001b[0mconfig\u001b[0m \u001b[1;33m=\u001b[0m \u001b[0mjson\u001b[0m\u001b[1;33m.\u001b[0m\u001b[0mload\u001b[0m\u001b[1;33m(\u001b[0m\u001b[0mfIn\u001b[0m\u001b[1;33m)\u001b[0m\u001b[1;33m\u001b[0m\u001b[1;33m\u001b[0m\u001b[0m\n\u001b[0;32m     77\u001b[0m         \u001b[1;32mreturn\u001b[0m \u001b[0mTransformer\u001b[0m\u001b[1;33m(\u001b[0m\u001b[0mmodel_name_or_path\u001b[0m\u001b[1;33m=\u001b[0m\u001b[0minput_path\u001b[0m\u001b[1;33m,\u001b[0m \u001b[1;33m**\u001b[0m\u001b[0mconfig\u001b[0m\u001b[1;33m)\u001b[0m\u001b[1;33m\u001b[0m\u001b[1;33m\u001b[0m\u001b[0m\n",
      "\u001b[1;31mFileNotFoundError\u001b[0m: [Errno 2] No such file or directory: './KoSentenceBERT_SKT/output/training_sts/0_Transformer\\\\sentence_bert_config.json'"
     ]
    }
   ],
   "metadata": {}
  },
  {
   "cell_type": "code",
   "execution_count": null,
   "source": [],
   "outputs": [],
   "metadata": {}
  }
 ],
 "metadata": {
  "orig_nbformat": 4,
  "language_info": {
   "name": "python",
   "version": "3.7.10",
   "mimetype": "text/x-python",
   "codemirror_mode": {
    "name": "ipython",
    "version": 3
   },
   "pygments_lexer": "ipython3",
   "nbconvert_exporter": "python",
   "file_extension": ".py"
  },
  "kernelspec": {
   "name": "python3",
   "display_name": "Python 3.7.10 64-bit ('bookcode': conda)"
  },
  "interpreter": {
   "hash": "d1060aaa5ae62455a56bffe808016f406ad285202e47dc14c6b5ce9059badd85"
  }
 },
 "nbformat": 4,
 "nbformat_minor": 2
}