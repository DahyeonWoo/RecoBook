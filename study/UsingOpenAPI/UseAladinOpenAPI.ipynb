{
 "cells": [
  {
   "cell_type": "markdown",
   "id": "20c5693c",
   "metadata": {},
   "source": [
    "### 알라딘 OpenAPI 사용하는 방법 \n",
    "- 매뉴얼 : https://docs.google.com/document/d/1mX-WxuoGs8Hy-QalhHcvuV17n50uGI2Sg_GHofgiePE/edit"
   ]
  },
  {
   "cell_type": "code",
   "execution_count": 3,
   "id": "2ec12bc8",
   "metadata": {},
   "outputs": [],
   "source": [
    "#-*- coding:utf-8 -*-\n",
    "import os\n",
    "import sys\n",
    "import requests\n",
    "import json\n",
    "\n",
    "#키와 url 정의\n",
    "key = \"ttbsujoo851359001\"\n",
    "url = f\"http://www.aladin.co.kr/ttb/api/ItemList.aspx?ttbkey=ttbsujoo851359001&QueryType=Bestseller&MaxResults=100\" \\\n",
    "      \"&start=1&SearchTarget=Book&output=js&Version=20131101&CategoryId=0\"\n",
    "      \n",
    "      \n",
    "#request 보내기\n",
    "response = requests.get(url)\n",
    "\n",
    "#받은 response를 json 타입으로 바뀌주기\n",
    "response_json = json.loads(response.text)\n",
    "    \n",
    "data_dict={}\n",
    "for i in range(len(response_json['item'])):\n",
    "    data_dict['title']=response_json['item'][i]['title']\n",
    "    data_dict['image']=response_json['item'][i]['cover']\n",
    "    data_dict['publish_date']=response_json['item'][i]['pubDate']\n",
    "    data_dict['description']=response_json['item'][i]['description']\n",
    "    data_dict['publisher']=response_json['item'][i]['publisher']\n",
    "    data_dict['price']=response_json['item'][i]['priceStandard']\n",
    "    data_dict['categoryId']=response_json['item'][i]['categoryName']\n",
    "    data_dict['rank']=response_json['item'][i]['customerReviewRank']\n",
    "    \n",
    "    if(i==0):\n",
    "        with open('data.json', 'w') as file:\n",
    "            file.write(json.dumps(data_dict,ensure_ascii=False, indent=\"\\t\"))\n",
    "    else:\n",
    "        with open('data.json', 'a') as file:\n",
    "            file.write(json.dumps(data_dict,ensure_ascii=False, indent=\"\\t\"))"
   ]
  },
  {
   "cell_type": "code",
   "execution_count": null,
   "id": "7c308653",
   "metadata": {},
   "outputs": [],
   "source": []
  }
 ],
 "metadata": {
  "kernelspec": {
   "display_name": "Python 3",
   "language": "python",
   "name": "python3"
  },
  "language_info": {
   "codemirror_mode": {
    "name": "ipython",
    "version": 3
   },
   "file_extension": ".py",
   "mimetype": "text/x-python",
   "name": "python",
   "nbconvert_exporter": "python",
   "pygments_lexer": "ipython3",
   "version": "3.8.8"
  }
 },
 "nbformat": 4,
 "nbformat_minor": 5
}
