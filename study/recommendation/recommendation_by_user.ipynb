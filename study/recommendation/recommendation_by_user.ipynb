{
 "cells": [
  {
   "cell_type": "code",
   "execution_count": 37,
   "id": "f4eb0a9b",
   "metadata": {
    "scrolled": true
   },
   "outputs": [
    {
     "name": "stdout",
     "output_type": "stream",
     "text": [
      "['폭풍의 언덕', '동급생']\n"
     ]
    }
   ],
   "source": [
    "import pymysql\n",
    "import numpy as np\n",
    "import pandas as pd\n",
    "import time\n",
    "\n",
    "MYSQL_CONN = pymysql.connect(\n",
    "    host='db-6slkr-kr.vpc-pub-cdb.ntruss.com',\n",
    "    port=3306,\n",
    "    user='domain',\n",
    "    passwd='bookcode7!',\n",
    "    db='bookcode',\n",
    "    charset='utf8mb4'\n",
    ")\n",
    "\n",
    "def conn_mysqldb():\n",
    "    if not MYSQL_CONN.open:\n",
    "        MYSQL_CONN.ping(reconnect=True)\n",
    "    return MYSQL_CONN\n",
    "\n",
    "if __name__ == '__main__':\n",
    "    mysql_db = conn_mysqldb()\n",
    "    db_cursor = mysql_db.cursor()\n",
    "\n",
    "    sql = f\"SELECT * FROM User WHERE name = '이수빈';\"\n",
    "    \n",
    "    db_cursor.execute(sql) \n",
    "\n",
    "    result = db_cursor.fetchall()\n",
    "    result = pd.DataFrame(result)\n",
    "    \n",
    "    booklist=result[5][0].split('/')\n",
    "    \n",
    "    print(booklist)\n",
    "    "
   ]
  },
  {
   "cell_type": "code",
   "execution_count": 45,
   "id": "b5e2b552",
   "metadata": {},
   "outputs": [],
   "source": [
    "from sklearn.metrics.pairwise import cosine_similarity\n",
    "\n",
    "def str_to_vector(str_vector):    \n",
    "    str_vector=str_vector.replace('[','').replace(']','').split()\n",
    "    list_vector = list(map(float, str_vector))\n",
    "    vector=np.array(list_vector)    \n",
    "    return vector\n",
    "\n",
    "def recommend_by_title(title):\n",
    "\n",
    "    db = conn_mysqldb()\n",
    "    db_cursor = db.cursor()\n",
    "    sql = \"SELECT title, vector FROM ReviewTest;\"\n",
    "    db_cursor.execute(sql)\n",
    "    result = db_cursor.fetchall()\n",
    "\n",
    "    book_df = pd.DataFrame(result,columns=['title','vector'])\n",
    "    book_df['vector_']=book_df['vector'].apply(str_to_vector)\n",
    "\n",
    "    embedding_list=list(book_df['vector_'])\n",
    "    cosine_similarities = cosine_similarity(embedding_list, embedding_list)\n",
    "\n",
    "    books = book_df[['title']]\n",
    "    # 책의 제목을 입력하면 해당 제목의 인덱스를 리턴받아 idx에 저장.\n",
    "    indices = pd.Series(book_df.index, index = book_df['title']).drop_duplicates() \n",
    "    idx = indices[title]\n",
    "\n",
    "    # 입력된 책과 줄거리(document embedding)가 유사한 책 5개 선정.\n",
    "    sim_scores = list(enumerate(cosine_similarities[idx]))\n",
    "    sim_scores = sorted(sim_scores, key = lambda x: x[1], reverse = True)\n",
    "    sim_scores = sim_scores[1:6]\n",
    "\n",
    "    # 가장 유사한 책 5권의 인덱스\n",
    "    book_indices = [i[0] for i in sim_scores]\n",
    "\n",
    "    # 전체 데이터프레임에서 해당 인덱스의 행만 추출. 5개의 행을 가진다.\n",
    "    recommend = books.iloc[book_indices].reset_index(drop=True)\n",
    "\n",
    "    # 데이터프레임으로부터 순차적으로 이미지를 출력\n",
    "    return_list=list()\n",
    "    for i in book_indices:\n",
    "        return_list.append(books.loc[i]['title'])    \n",
    "    titles = '\\n'.join(return_list)\n",
    "    print(titles)"
   ]
  },
  {
   "cell_type": "code",
   "execution_count": 46,
   "id": "830a10e9",
   "metadata": {},
   "outputs": [
    {
     "name": "stdout",
     "output_type": "stream",
     "text": [
      "돌이킬 수 있는\n",
      "죄와 벌 2\n",
      "한국단편소설 70\n",
      "동물농장\n",
      "파리대왕\n",
      "불안한 사람들\n",
      "82년생 김지영\n",
      "카라마조프 가의 형제들 세트\n",
      "루팡의 딸\n",
      "진이, 지니\n"
     ]
    }
   ],
   "source": [
    "for book in booklist:\n",
    "    recommend_by_title(book)"
   ]
  },
  {
   "cell_type": "code",
   "execution_count": null,
   "id": "4acdd5dd",
   "metadata": {},
   "outputs": [],
   "source": []
  }
 ],
 "metadata": {
  "kernelspec": {
   "display_name": "Python 3",
   "language": "python",
   "name": "python3"
  },
  "language_info": {
   "codemirror_mode": {
    "name": "ipython",
    "version": 3
   },
   "file_extension": ".py",
   "mimetype": "text/x-python",
   "name": "python",
   "nbconvert_exporter": "python",
   "pygments_lexer": "ipython3",
   "version": "3.8.8"
  }
 },
 "nbformat": 4,
 "nbformat_minor": 5
}
