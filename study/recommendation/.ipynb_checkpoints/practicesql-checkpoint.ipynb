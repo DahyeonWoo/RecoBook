{
 "cells": [
  {
   "cell_type": "code",
   "execution_count": null,
   "id": "35d92c92",
   "metadata": {},
   "outputs": [],
   "source": [
    "CREATE DATABASE booktable;\n",
    "USE booktable;\n",
    "\n",
    "CREATE TABLE `booktable`( \n",
    "  `title` VARCHAR(255) NULL,\n",
    "  `author` VARCHAR(255) NULL,\n",
    "  `isbn13` VARCHAR(255) NULL, \n",
    "  `review` TEXT NULL, \n",
    "  `vector` TEXT NULL\n",
    "   PRIMARY KEY (`title`)\n",
    ") ENGINE=InnoDB DEFAULT CHARSET=utf8;\n",
    "\n",
    "LOAD DATA INFILE './bookdata.csv' INTO TABLE bookdata FIELDS TERMINATED BY ',';"
   ]
  },
  {
   "cell_type": "code",
   "execution_count": null,
   "id": "63d514b4",
   "metadata": {},
   "outputs": [],
   "source": [
    "CREATE DATABASE authordata;\n",
    "USE authordata;\n",
    "\n",
    "CREATE TABLE 'authortable'( \n",
    "  author VARCHAR(255) NULL,\n",
    "  info TEXT NULL,\n",
    "  booklist TEXT NULL,\n",
    "  vector TEXT NULL\n",
    ");\n",
    "\n",
    "LOAD DATA INFILE './authordata.csv' INTO TABLE authordata FIELDS TERMINATED BY ',';"
   ]
  }
 ],
 "metadata": {
  "kernelspec": {
   "display_name": "Python 3",
   "language": "python",
   "name": "python3"
  },
  "language_info": {
   "codemirror_mode": {
    "name": "ipython",
    "version": 3
   },
   "file_extension": ".py",
   "mimetype": "text/x-python",
   "name": "python",
   "nbconvert_exporter": "python",
   "pygments_lexer": "ipython3",
   "version": "3.8.8"
  }
 },
 "nbformat": 4,
 "nbformat_minor": 5
}
