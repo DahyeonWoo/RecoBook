{
 "cells": [
  {
   "cell_type": "markdown",
   "metadata": {
    "id": "9ceNy5bBEO_R"
   },
   "source": [
    "1. 데이터 로드"
   ]
  },
  {
   "cell_type": "code",
   "execution_count": 1,
   "metadata": {
    "id": "qCQB8aVW2FFk"
   },
   "outputs": [
    {
     "name": "stdout",
     "output_type": "stream",
     "text": [
      "Requirement already satisfied: numpy==1.20.0 in c:\\users\\user\\anaconda3\\lib\\site-packages (1.20.0)"
     ]
    },
    {
     "name": "stderr",
     "output_type": "stream",
     "text": [
      "WARNING: You are using pip version 21.2.3; however, version 21.2.4 is available.\n",
      "You should consider upgrading via the 'c:\\users\\user\\anaconda3\\python.exe -m pip install --upgrade pip' command.\n"
     ]
    },
    {
     "name": "stdout",
     "output_type": "stream",
     "text": [
      "\n",
      "Requirement already satisfied: gensim==3.7.0 in c:\\users\\user\\appdata\\roaming\\python\\python38\\site-packages (3.7.0)\n",
      "Requirement already satisfied: six>=1.5.0 in c:\\users\\user\\anaconda3\\lib\\site-packages (from gensim==3.7.0) (1.15.0)\n",
      "Requirement already satisfied: scipy>=0.18.1 in c:\\users\\user\\anaconda3\\lib\\site-packages (from gensim==3.7.0) (1.6.2)\n",
      "Requirement already satisfied: smart-open>=1.7.0 in c:\\users\\user\\anaconda3\\lib\\site-packages (from gensim==3.7.0) (1.9.0)\n",
      "Requirement already satisfied: numpy>=1.11.3 in c:\\users\\user\\anaconda3\\lib\\site-packages (from gensim==3.7.0) (1.20.0)\n",
      "Requirement already satisfied: boto>=2.32 in c:\\users\\user\\anaconda3\\lib\\site-packages (from smart-open>=1.7.0->gensim==3.7.0) (2.49.0)\n",
      "Requirement already satisfied: boto3 in c:\\users\\user\\anaconda3\\lib\\site-packages (from smart-open>=1.7.0->gensim==3.7.0) (1.17.88)\n",
      "Requirement already satisfied: requests in c:\\users\\user\\anaconda3\\lib\\site-packages (from smart-open>=1.7.0->gensim==3.7.0) (2.26.0)\n",
      "Requirement already satisfied: bz2file in c:\\users\\user\\anaconda3\\lib\\site-packages (from smart-open>=1.7.0->gensim==3.7.0) (0.98)\n",
      "Requirement already satisfied: botocore<1.21.0,>=1.20.88 in c:\\users\\user\\anaconda3\\lib\\site-packages (from boto3->smart-open>=1.7.0->gensim==3.7.0) (1.20.94)\n",
      "Requirement already satisfied: s3transfer<0.5.0,>=0.4.0 in c:\\users\\user\\anaconda3\\lib\\site-packages (from boto3->smart-open>=1.7.0->gensim==3.7.0) (0.4.2)\n",
      "Requirement already satisfied: jmespath<1.0.0,>=0.7.1 in c:\\users\\user\\anaconda3\\lib\\site-packages (from boto3->smart-open>=1.7.0->gensim==3.7.0) (0.10.0)\n",
      "Requirement already satisfied: urllib3<1.27,>=1.25.4 in c:\\users\\user\\anaconda3\\lib\\site-packages (from botocore<1.21.0,>=1.20.88->boto3->smart-open>=1.7.0->gensim==3.7.0) (1.26.6)\n",
      "Requirement already satisfied: python-dateutil<3.0.0,>=2.1 in c:\\users\\user\\anaconda3\\lib\\site-packages (from botocore<1.21.0,>=1.20.88->boto3->smart-open>=1.7.0->gensim==3.7.0) (2.8.1)\n",
      "Requirement already satisfied: idna<4,>=2.5 in c:\\users\\user\\anaconda3\\lib\\site-packages (from requests->smart-open>=1.7.0->gensim==3.7.0) (2.6)\n",
      "Requirement already satisfied: certifi>=2017.4.17 in c:\\users\\user\\anaconda3\\lib\\site-packages (from requests->smart-open>=1.7.0->gensim==3.7.0) (2020.12.5)\n",
      "Requirement already satisfied: charset-normalizer~=2.0.0 in c:\\users\\user\\anaconda3\\lib\\site-packages (from requests->smart-open>=1.7.0->gensim==3.7.0) (2.0.3)\n"
     ]
    },
    {
     "name": "stderr",
     "output_type": "stream",
     "text": [
      "WARNING: You are using pip version 21.2.3; however, version 21.2.4 is available.\n",
      "You should consider upgrading via the 'c:\\users\\user\\anaconda3\\python.exe -m pip install --upgrade pip' command.\n"
     ]
    }
   ],
   "source": [
    "# 패키지 임포트\n",
    "!pip install numpy==1.20.0\n",
    "!pip install gensim==3.7.0 --user\n",
    "import urllib.request\n",
    "import pandas as pd\n",
    "import numpy as np\n",
    "import matplotlib.pyplot as plt\n",
    "import requests\n",
    "import re\n",
    "from konlpy.tag import Okt\n",
    "from io import BytesIO\n",
    "from gensim.models import Word2Vec\n",
    "from gensim.models import KeyedVectors\n",
    "from sklearn.metrics.pairwise import cosine_similarity"
   ]
  },
  {
   "cell_type": "code",
   "execution_count": 4,
   "metadata": {
    "id": "b6RdQ_29Fg31"
   },
   "outputs": [],
   "source": [
    "# 데이터를 데이터프레임으로 로드하고, 전체 문서의 수 출력"
   ]
  },
  {
   "cell_type": "code",
   "execution_count": 12,
   "metadata": {
    "id": "pSDzOOLFGLi_"
   },
   "outputs": [],
   "source": [
    "df1 = pd.read_csv('authordata_haveVector.csv')\n",
    "df2 = pd.read_csv('bookdata_haveVector.csv')"
   ]
  },
  {
   "cell_type": "code",
   "execution_count": 13,
   "metadata": {
    "id": "s2K_HB98Gc30"
   },
   "outputs": [],
   "source": [
    "# 상위 5행만 출력하여 확인"
   ]
  },
  {
   "cell_type": "code",
   "execution_count": 14,
   "metadata": {},
   "outputs": [
    {
     "name": "stderr",
     "output_type": "stream",
     "text": [
      "C:\\Users\\user\\AppData\\Roaming\\Python\\Python38\\site-packages\\konlpy\\tag\\_okt.py:16: UserWarning: \"Twitter\" has changed to \"Okt\" since KoNLPy v0.4.5.\n",
      "  warn('\"Twitter\" has changed to \"Okt\" since KoNLPy v0.4.5.')\n"
     ]
    }
   ],
   "source": [
    "# 형태소 분석 하기 전 사용자 사전 추가\n",
    "from ckonlpy.tag import Twitter\n",
    "\n",
    "twitter = Twitter()\n",
    "twitter.add_dictionary(list(df1['author']), 'Noun')\n",
    "twitter.add_dictionary(list(df2['author']), 'Noun')\n",
    "twitter.add_dictionary(list(df2['title']), 'Noun')"
   ]
  },
  {
   "cell_type": "code",
   "execution_count": 15,
   "metadata": {},
   "outputs": [
    {
     "name": "stdout",
     "output_type": "stream",
     "text": [
      "  author                                               info  \\\n",
      "0    나예리  특유의 냉소적인 캐릭터와 독특한 그림체로 데뷔 초기부터 나예리 매니아 집단을 형성한...   \n",
      "1    이문열  년 서울에서 태어나 경북 영양 밀양 부산 등지에서 자랐다 서울대학교 사범대학에서 수...   \n",
      "2  조애너 콜  저자 조애너 콜 은 어렸을 때부터 과학을 좋아하는 영리한 소녀였다 신기한 스쿨 버스...   \n",
      "3    이호백  년 서울 출생 서울대학교 산업 미술학과와 고려대 신문방송학과 대학원을 졸업한 후 파...   \n",
      "4    권정생  일본 도쿄에서 태어나 광복 직후 우리나라로 돌아왔다 경북 안동 일직면에서 마을 교회...   \n",
      "\n",
      "                                            booklist  \\\n",
      "0  탐정이 될래요/네멋대로 해라!/아마도 달콤하겠지-MAY BE SO SWEET/특명!...   \n",
      "1  사람의 아들/사람의 아들/황제를 위하여/금시조/선택/선택/젊은날의 초상/영웅시대/시...   \n",
      "2                                    바퀴벌레/강아지가 태어났어요   \n",
      "3                세상에서 제일 힘 센 수탉/도대체 그동안 무슨 일이 일어났을까?   \n",
      "4  몽실 언니/사과나무 밭 달님/바닷가 아이들/점득이네/하느님의 눈물/밥데기 죽데기/또...   \n",
      "\n",
      "                                             cleaned  \\\n",
      "0  특 유의 냉소 캐릭터 독특 그림 체 데뷔 초기 예리 매니아 집단 형성 작가 예리 파...   \n",
      "1  서울 태어나다 경북 영양 밀양 부산 등지 자르다 서울대학교 사범대 학 수학 동아일보...   \n",
      "2  저자 조 애너 콜 어리다 과학 좋다 영리 소녀 신기 스쿨 버스 프리 즐 선생님 처럼...   \n",
      "3  서울 출생 서울대학교 산업 미술 학과 고려대 신문방송학 대학원 졸업 파리 대학 커뮤...   \n",
      "4  일본 도쿄 태어나다 광복 직후 우리나라 돌아오다 경북 안동 일직면 마을 교회 종 지...   \n",
      "\n",
      "                                              vector  \n",
      "0  [ 1.70979867e-04  1.18168617e-04 -9.67859305e-...  \n",
      "1  [ 5.47122945e-05  7.86928795e-05 -2.05672441e-...  \n",
      "2  [-3.16677106e-05  1.85938101e-04 -1.44910387e-...  \n",
      "3  [-1.48006307e-04 -2.74327787e-04  4.84374323e-...  \n",
      "4  [-9.12965043e-05 -3.60918420e-05  1.53468092e-...  \n",
      "                      title   author         isbn13  \\\n",
      "0              달러구트 꿈 백화점 2      이미예  9791165343729   \n",
      "1                달러구트 꿈 백화점      이미예  9791165341909   \n",
      "2                미드나잇 라이브러리   매트 헤이그  9791191056556   \n",
      "3  오늘 밤, 세계에서 이 사랑이 사라진다 해도  이치조 미사키  9791191043297   \n",
      "4                    완전한 행복      정유정  9791167370280   \n",
      "\n",
      "                                              review  \\\n",
      "0  달러구트 꿈백화점 1권을 읽으신 분들이라면 2권을 손꼽아 기다렸을 것이다. 나 또한...   \n",
      "1  평소에 책을 너무 안 읽는 것 같아 계속 베스트셀러에 올라와 있기에 주문해 보았습니...   \n",
      "2  죽음이라는 주제로 어둡게 이야기가 흘러가지는 않을까 걱정했는데 죽음보다는 인생에 대...   \n",
      "3  우연히 SNS에서 이 책의 줄거리를 읽게 되었습니다. 이런 표지의 감성을 담은 소설...   \n",
      "4  무서워서 낮에만 읽으려고 했던 나의 결심?다짐?을 반달늪에 쳐박아 버린 소설. 정유...   \n",
      "\n",
      "                                             cleaned  \\\n",
      "0  달러 구트 꿈 백화점 1 권 읽다 분 라면 2 권 손꼽다 기다리다 2 권 에서는 어...   \n",
      "1  평소 책 너무 읽다 계속 베스트셀러 올라오다 주문 해 판타지 내용 그냥 가볍다 읽다...   \n",
      "2  죽음 이라는 주제 어둡다 이야기 흐르다 걱정 죽음 보다는 인생 깊다 다 루고 좋다 ...   \n",
      "3  우연 히 책 줄거리 읽다 되어다 이렇다 표지 감성 담다 소설 취향 자다 읽다 줄거리...   \n",
      "4  무섭다 낮 에만 읽다 결심 다짐 반달 늪 치다 박아 버리다 소설 정유 정 작가 소설...   \n",
      "\n",
      "                                              vector  \n",
      "0  [-1.36356655e-04  1.37033829e-04 -1.28305255e-...  \n",
      "1  [-1.17387448e-04  1.14183233e-04 -9.06481218e-...  \n",
      "2  [ 1.43364712e-04  4.75262095e-05  4.52641652e-...  \n",
      "3  [ 2.78678526e-05  6.58732752e-05  2.47672015e-...  \n",
      "4  [ 3.84600899e-05 -7.59046816e-06  4.11704932e-...  \n"
     ]
    }
   ],
   "source": [
    "print(df1.head())\n",
    "print(df2.head())"
   ]
  },
  {
   "cell_type": "code",
   "execution_count": 16,
   "metadata": {},
   "outputs": [
    {
     "name": "stdout",
     "output_type": "stream",
     "text": [
      "0      [-0.000136356655, 0.000137033829, -0.000128305...\n",
      "1      [-0.000117387448, 0.000114183233, -9.06481218e...\n",
      "2      [0.000143364712, 4.75262095e-05, 4.52641652e-0...\n",
      "3      [2.78678526e-05, 6.58732752e-05, 2.47672015e-0...\n",
      "4      [3.84600899e-05, -7.59046816e-06, 4.11704932e-...\n",
      "                             ...                        \n",
      "134    [2.52884747e-05, 5.5673454e-06, -6.66477645e-0...\n",
      "135    [-1.79595172e-05, 3.92592347e-06, 3.47515561e-...\n",
      "136    [-2.40112495e-05, 1.05386716e-05, -4.15595532e...\n",
      "137    [0.000129926892, -2.70366872e-05, 1.11418194e-...\n",
      "138    [0.000138639385, 6.56343764e-05, 7.59905815e-0...\n",
      "Name: vector, Length: 139, dtype: object\n"
     ]
    }
   ],
   "source": [
    "def str_to_vector(str_vector):    \n",
    "    str_vector=str_vector.replace('[','').replace(']','').split()\n",
    "    list_vector = list(map(float, str_vector))\n",
    "    vector=np.array(list_vector)    \n",
    "    return vector\n",
    "\n",
    "df2['vector']=df2['vector'].apply(str_to_vector)\n"
   ]
  },
  {
   "cell_type": "markdown",
   "metadata": {
    "id": "iqGzBoTlNmmK"
   },
   "source": [
    "4. 추천 시스템 구현하기"
   ]
  },
  {
   "cell_type": "code",
   "execution_count": 19,
   "metadata": {
    "id": "_JHQJVLPNpyg"
   },
   "outputs": [
    {
     "name": "stdout",
     "output_type": "stream",
     "text": [
      "코사인 유사도 매트릭스의 크기 : (139, 139)\n"
     ]
    }
   ],
   "source": [
    "# 각 벡터간 코사인 유사도\n",
    "\n",
    "document_embedding_list=list(df2['vector'])\n",
    "cosine_similarities = cosine_similarity(document_embedding_list, document_embedding_list)\n",
    "print('코사인 유사도 매트릭스의 크기 :',cosine_similarities.shape)"
   ]
  },
  {
   "cell_type": "code",
   "execution_count": 30,
   "metadata": {},
   "outputs": [
    {
     "name": "stdout",
     "output_type": "stream",
     "text": [
      "['사람의 아들', '사람의 아들', '황제를 위하여', '금시조', '선택', '선택', '젊은날의 초상', '영웅시대', '시인', '오디세이아 서울', '선택', '호모 엑세쿠탄스', '이문열 중단편 전집', '사색', '시대와의 불화', '신들메를 고쳐매며', '변경', '대륙의 한', '삼국지', '수호지', '초한지']\n"
     ]
    }
   ],
   "source": [
    "print(df1.loc[df1['author'] == '이문열']['booklist'][1].split('/'))"
   ]
  },
  {
   "cell_type": "code",
   "execution_count": 20,
   "metadata": {
    "id": "tYc6qvggNyp7"
   },
   "outputs": [],
   "source": [
    "# 코사인 유사도를 이용하여, 가장 설명이 유사한 5개의 작가을 찾아내는 함수 만들기"
   ]
  },
  {
   "cell_type": "code",
   "execution_count": 21,
   "metadata": {
    "id": "rCiy1aiyOGLZ"
   },
   "outputs": [],
   "source": [
    "def recommendations_by_booklist(author):\n",
    "    booklist=df1.loc[df1['author'] == author]['booklist'][1].split('/')\n",
    "    \n",
    "    booklist_vector=[]\n",
    "    for book in booklist:d\n",
    "        try:\n",
    "            book_vector.append(df1.loc[df2['title'] == book]['vector'][1])\n",
    "        except:\n",
    "            print('일치하는 도서를 발견하지 못했습니다')\n",
    "\n",
    "    sim_scores = list(enumerate(cosine_similarities[idx]))\n",
    "    sim_scores = sorted(sim_scores, key = lambda x: x[1], reverse = True)\n",
    "    sim_scores = sim_scores[1:6]\n",
    "\n",
    "    book_indices = [i[0] for i in sim_scores]\n",
    "\n",
    "    recommend = books.iloc[book_indices].reset_index(drop=True)\n",
    "\n",
    "    for i in book_indices:\n",
    "        print(books.loc[i]['author'])"
   ]
  }
 ],
 "metadata": {
  "colab": {
   "name": "nlp_1011_recommendation system using document embedding 문서벡터를 이용한 추천.ipynb",
   "private_outputs": true,
   "provenance": []
  },
  "kernelspec": {
   "display_name": "Python 3",
   "language": "python",
   "name": "python3"
  },
  "language_info": {
   "codemirror_mode": {
    "name": "ipython",
    "version": 3
   },
   "file_extension": ".py",
   "mimetype": "text/x-python",
   "name": "python",
   "nbconvert_exporter": "python",
   "pygments_lexer": "ipython3",
   "version": "3.8.8"
  }
 },
 "nbformat": 4,
 "nbformat_minor": 1
}
