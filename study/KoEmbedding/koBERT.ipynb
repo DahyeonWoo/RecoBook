{
 "cells": [
  {
   "cell_type": "code",
   "execution_count": 4,
   "id": "15ae6998",
   "metadata": {},
   "outputs": [
    {
     "name": "stdout",
     "output_type": "stream",
     "text": [
      "                 0                                                  1\n",
      "0    9791165341909  한강 작품들 중에서 가장 별로임그런데 서평에 내용언급보다는 그냥 밑도 끝도 없이 울...\n",
      "1    9791165341909  도서관에 아이책 빌리러 갔다가.. 내용도 모르고 꺼내 들어왔던건데.. 광주의 이야기...\n",
      "2    9791165341909  새롭지 않은..그래서 읽는 내내 좀 지루했습니다. 평이 굉장히 좋아서 아무래도 너무...\n",
      "3    9791165341909  처음 책을 보았을때 이 책을 읽고 사람들이 울었다는 글에 공감하지 못했습니다 초반까...\n",
      "4    9791165341909  ﻿생각하고 또 생각해도 미어터져 흐르는 향할 곳 없는 분노, 고통과 슬픔만이 가득한...\n",
      "..             ...                                                ...\n",
      "777  9791165341909                   오월이 가기 전에 되도록 많은 사람이 읽었으면 좋겠습니다.\n",
      "778  9791165341909  사전 지식 없이 그저 ｀한강｀이라는 작가만 보고 구입해서 읽었다. 뒤통수를 맞은 기...\n",
      "779  9791165341909  책장을 덮었음에도 슬픔이 영원할것만 같다. 80년의 광주에서 스러져간 영혼들. 어찌...\n",
      "780  9791165341909                                그냥 읽어보세요 다른 말이 필요없엉\n",
      "781  9791165341909                                   기다렸어요.. 한강작가님 신간\n",
      "\n",
      "[780 rows x 2 columns]\n"
     ]
    }
   ],
   "source": [
    "import pandas as pd\n",
    "train_data = pd.read_csv('testdata_koBert.csv')\n",
    "train_data = train_data.dropna(how = 'any')\n",
    "print(train_data)"
   ]
  },
  {
   "cell_type": "code",
   "execution_count": 8,
   "id": "51ad5186",
   "metadata": {},
   "outputs": [],
   "source": [
    "import tensorflow as tf\n",
    "import numpy as np\n",
    "import pandas as pd\n",
    "from transformers import *\n",
    "import json\n",
    "import numpy as np\n",
    "import pandas as pd\n",
    "from tqdm import tqdm\n",
    "import os"
   ]
  },
  {
   "cell_type": "code",
   "execution_count": null,
   "id": "37d64bf2",
   "metadata": {},
   "outputs": [],
   "source": []
  }
 ],
 "metadata": {
  "kernelspec": {
   "display_name": "Python 3",
   "language": "python",
   "name": "python3"
  },
  "language_info": {
   "codemirror_mode": {
    "name": "ipython",
    "version": 3
   },
   "file_extension": ".py",
   "mimetype": "text/x-python",
   "name": "python",
   "nbconvert_exporter": "python",
   "pygments_lexer": "ipython3",
   "version": "3.8.8"
  }
 },
 "nbformat": 4,
 "nbformat_minor": 5
}
