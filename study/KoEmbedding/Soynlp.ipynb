{
 "cells": [
  {
   "cell_type": "markdown",
   "id": "1077124a",
   "metadata": {},
   "source": [
    "### 3. SOYNLP : 비지도 학습으로 사용하는 단어 토크나이저"
   ]
  },
  {
   "cell_type": "code",
   "execution_count": 1,
   "id": "7fb08143",
   "metadata": {},
   "outputs": [
    {
     "name": "stdout",
     "output_type": "stream",
     "text": [
      "Requirement already satisfied: soynlp in c:\\users\\user\\anaconda3\\lib\\site-packages (0.0.493)\n",
      "Requirement already satisfied: scikit-learn>=0.20.0 in c:\\users\\user\\anaconda3\\lib\\site-packages (from soynlp) (0.24.1)\n",
      "Requirement already satisfied: numpy>=1.12.1 in c:\\users\\user\\anaconda3\\lib\\site-packages (from soynlp) (1.19.5)\n",
      "Requirement already satisfied: psutil>=5.0.1 in c:\\users\\user\\anaconda3\\lib\\site-packages (from soynlp) (5.8.0)\n",
      "Requirement already satisfied: scipy>=1.1.0 in c:\\users\\user\\anaconda3\\lib\\site-packages (from soynlp) (1.6.2)\n",
      "Requirement already satisfied: joblib>=0.11 in c:\\users\\user\\anaconda3\\lib\\site-packages (from scikit-learn>=0.20.0->soynlp) (1.0.1)\n",
      "Requirement already satisfied: threadpoolctl>=2.0.0 in c:\\users\\user\\anaconda3\\lib\\site-packages (from scikit-learn>=0.20.0->soynlp) (2.1.0)\n"
     ]
    }
   ],
   "source": [
    "!pip install soynlp\n",
    "import urllib.request\n",
    "from soynlp import DoublespaceLineCorpus\n",
    "from soynlp.word import WordExtractor"
   ]
  },
  {
   "cell_type": "code",
   "execution_count": 2,
   "id": "95d5776c",
   "metadata": {},
   "outputs": [
    {
     "data": {
      "text/plain": [
       "3286"
      ]
     },
     "execution_count": 2,
     "metadata": {},
     "output_type": "execute_result"
    }
   ],
   "source": [
    "# 훈련 데이터를 다수의 문서로 분리\n",
    "corpus = DoublespaceLineCorpus(\"yes24Review.csv\")\n",
    "len(corpus)"
   ]
  },
  {
   "cell_type": "code",
   "execution_count": 3,
   "id": "aa587412",
   "metadata": {},
   "outputs": [
    {
     "name": "stdout",
     "output_type": "stream",
     "text": [
      "training was done. used memory 0.115 Gb\n",
      "all cohesion probabilities was computed. # words = 5331\n",
      "all branching entropies was computed # words = 10339\n",
      "all accessor variety was computed # words = 10339\n"
     ]
    }
   ],
   "source": [
    "word_extractor = WordExtractor()\n",
    "word_extractor.train(corpus)\n",
    "word_score_table = word_extractor.extract()"
   ]
  },
  {
   "cell_type": "markdown",
   "id": "63f10e37",
   "metadata": {},
   "source": [
    "#### SOYNLP의 브랜칭 엔트로피(branching entropy) : 주어진 문자열에서 얼마나 다음 문자가 등장할 수 있는지를 판단하는 척도"
   ]
  },
  {
   "cell_type": "code",
   "execution_count": 5,
   "id": "d908f936",
   "metadata": {},
   "outputs": [
    {
     "name": "stdout",
     "output_type": "stream",
     "text": [
      "1.0219933064083193\n",
      "0.6365141682948128\n",
      "-0.0\n"
     ]
    }
   ],
   "source": [
    "print(word_score_table[\"완\"].right_branching_entropy)\n",
    "print(word_score_table[\"완전\"].right_branching_entropy)\n",
    "print(word_score_table[\"완전한\"].right_branching_entropy)"
   ]
  },
  {
   "cell_type": "markdown",
   "id": "49b70d45",
   "metadata": {},
   "source": [
    "#### SOYNLP의 응집 확률(cohesion probability) : 내부 문자열(substring)이 얼마나 응집하여 자주 등장하는지를 판단하는 척도\n",
    "- 응집 확률은 문자열을 문자 단위로 분리하여 내부 문자열을 만드는 과정에서 왼쪽부터 순서대로 문자를 추가하면서 각 문자열이 주어졌을 때 그 다음 문자가 나올 확률을 계산하여 누적곱을 한 값입니다. 이 값이 높을수록 전체 코퍼스에서 이 문자열 시퀀스는 하나의 단어로 등장할 가능성이 높습니다"
   ]
  },
  {
   "cell_type": "code",
   "execution_count": 6,
   "id": "cd3921b0",
   "metadata": {},
   "outputs": [
    {
     "name": "stdout",
     "output_type": "stream",
     "text": [
      "0.40259099679869137\n",
      "0.6103896103896104\n",
      "0.5345224838248488\n"
     ]
    }
   ],
   "source": [
    "print(word_score_table[\"정유정\"].cohesion_forward)\n",
    "print(word_score_table[\"완전\"].cohesion_forward)\n",
    "print(word_score_table[\"완전한\"].cohesion_forward)"
   ]
  },
  {
   "cell_type": "markdown",
   "id": "5f7c6aee",
   "metadata": {},
   "source": [
    "#### SOYNLP의 L tokenizer : 주로 L 토큰 + R 토큰의 형식을 갖는 어절 토큰"
   ]
  },
  {
   "cell_type": "code",
   "execution_count": 7,
   "id": "0e7c0a83",
   "metadata": {},
   "outputs": [
    {
     "data": {
      "text/plain": [
       "[('이', ''),\n",
       " ('책에서', ''),\n",
       " ('황혼을', ''),\n",
       " ('맞이', '하는'),\n",
       " ('방법', '으로'),\n",
       " ('철학', '자들이'),\n",
       " ('공통으로', ''),\n",
       " ('말하는', ''),\n",
       " ('것이', ''),\n",
       " ('있다', '')]"
      ]
     },
     "execution_count": 7,
     "metadata": {},
     "output_type": "execute_result"
    }
   ],
   "source": [
    "from soynlp.tokenizer import LTokenizer\n",
    "\n",
    "scores = {word:score.cohesion_forward for word, score in word_score_table.items()}\n",
    "l_tokenizer = LTokenizer(scores=scores)\n",
    "l_tokenizer.tokenize(\"이 책에서 황혼을 맞이하는 방법으로 철학자들이 공통으로 말하는 것이 있다\", flatten=False)"
   ]
  },
  {
   "cell_type": "markdown",
   "id": "3a0aae74",
   "metadata": {},
   "source": [
    "#### 최대 점수 토크나이저 : 띄어쓰기가 되지 않는 문장에서 점수가 높은 글자 시퀀스를 순차적으로 찾아내는 토크나이저"
   ]
  },
  {
   "cell_type": "code",
   "execution_count": 8,
   "id": "e49eeb4e",
   "metadata": {},
   "outputs": [
    {
     "data": {
      "text/plain": [
       "['이',\n",
       " '책에서',\n",
       " '황혼을',\n",
       " '맞이',\n",
       " '하는',\n",
       " '방법',\n",
       " '으로',\n",
       " '철학',\n",
       " '자들이',\n",
       " '공통으로',\n",
       " '말하는',\n",
       " '것이',\n",
       " '있다']"
      ]
     },
     "execution_count": 8,
     "metadata": {},
     "output_type": "execute_result"
    }
   ],
   "source": [
    "from soynlp.tokenizer import MaxScoreTokenizer\n",
    "\n",
    "maxscore_tokenizer = MaxScoreTokenizer(scores=scores)\n",
    "maxscore_tokenizer.tokenize(\"이 책에서 황혼을 맞이하는 방법으로 철학자들이 공통으로 말하는 것이 있다\")"
   ]
  },
  {
   "cell_type": "markdown",
   "id": "d20f5acf",
   "metadata": {},
   "source": [
    "###  4. SOYNLP를 이용한 반복되는 문자 정제"
   ]
  },
  {
   "cell_type": "code",
   "execution_count": 9,
   "id": "850f2859",
   "metadata": {},
   "outputs": [],
   "source": [
    "from soynlp.normalizer import *"
   ]
  },
  {
   "cell_type": "code",
   "execution_count": 10,
   "id": "85cec93b",
   "metadata": {},
   "outputs": [
    {
     "name": "stdout",
     "output_type": "stream",
     "text": [
      "아ㅋ노잼ㅠ\n",
      "아ㅋㅋㅋ노잼ㅠㅠㅠ\n"
     ]
    }
   ],
   "source": [
    "print(emoticon_normalize('앜ㅋㅋㅋㅋ개노잼ㅠㅠㅠㅠㅠ', num_repeats=1))\n",
    "print(emoticon_normalize('앜ㅋㅋㅋㅋㅋㅋㅋㅋㅋ개노잼ㅠㅠㅠㅠ', num_repeats=3))\n",
    "#불필요하게 반복되는 것은 하나로 정규화"
   ]
  },
  {
   "cell_type": "code",
   "execution_count": null,
   "id": "0b452cfb",
   "metadata": {},
   "outputs": [],
   "source": []
  }
 ],
 "metadata": {
  "kernelspec": {
   "display_name": "Python 3",
   "language": "python",
   "name": "python3"
  },
  "language_info": {
   "codemirror_mode": {
    "name": "ipython",
    "version": 3
   },
   "file_extension": ".py",
   "mimetype": "text/x-python",
   "name": "python",
   "nbconvert_exporter": "python",
   "pygments_lexer": "ipython3",
   "version": "3.8.8"
  }
 },
 "nbformat": 4,
 "nbformat_minor": 5
}
