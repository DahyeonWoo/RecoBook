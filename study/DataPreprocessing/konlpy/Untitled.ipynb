{
 "cells": [
  {
   "cell_type": "code",
   "execution_count": 1,
   "id": "d4ba1942",
   "metadata": {},
   "outputs": [
    {
     "name": "stdout",
     "output_type": "stream",
     "text": [
      "['C:\\\\MyStudy\\\\NLP_STUDY\\\\KoreanNLP',\n",
      " 'C:\\\\Jupyter\\\\python38.zip',\n",
      " 'C:\\\\Jupyter\\\\DLLs',\n",
      " 'C:\\\\Jupyter\\\\lib',\n",
      " 'C:\\\\Jupyter',\n",
      " '',\n",
      " 'C:\\\\Users\\\\user\\\\AppData\\\\Roaming\\\\Python\\\\Python38\\\\site-packages',\n",
      " 'C:\\\\Jupyter\\\\lib\\\\site-packages',\n",
      " 'C:\\\\Jupyter\\\\lib\\\\site-packages\\\\locket-0.2.1-py3.8.egg',\n",
      " 'C:\\\\Jupyter\\\\lib\\\\site-packages\\\\win32',\n",
      " 'C:\\\\Jupyter\\\\lib\\\\site-packages\\\\win32\\\\lib',\n",
      " 'C:\\\\Jupyter\\\\lib\\\\site-packages\\\\Pythonwin',\n",
      " 'C:\\\\Jupyter\\\\lib\\\\site-packages\\\\IPython\\\\extensions',\n",
      " 'C:\\\\Users\\\\user\\\\.ipython']\n"
     ]
    }
   ],
   "source": [
    "import sys\n",
    "import pprint\n",
    "pprint.pprint(sys.path)"
   ]
  },
  {
   "cell_type": "code",
   "execution_count": 2,
   "id": "b0a54ce7",
   "metadata": {},
   "outputs": [
    {
     "ename": "ModuleNotFoundError",
     "evalue": "No module named 'tweepy'",
     "output_type": "error",
     "traceback": [
      "\u001b[1;31m---------------------------------------------------------------------------\u001b[0m",
      "\u001b[1;31mModuleNotFoundError\u001b[0m                       Traceback (most recent call last)",
      "\u001b[1;32m<ipython-input-2-8ae5b3199a8c>\u001b[0m in \u001b[0;36m<module>\u001b[1;34m\u001b[0m\n\u001b[1;32m----> 1\u001b[1;33m \u001b[1;32mimport\u001b[0m \u001b[0mtweepy\u001b[0m\u001b[1;33m\u001b[0m\u001b[1;33m\u001b[0m\u001b[0m\n\u001b[0m\u001b[0;32m      2\u001b[0m \u001b[0mprint\u001b[0m\u001b[1;33m(\u001b[0m\u001b[0mtweepy\u001b[0m\u001b[1;33m.\u001b[0m\u001b[0m__path__\u001b[0m\u001b[1;33m)\u001b[0m\u001b[1;33m\u001b[0m\u001b[1;33m\u001b[0m\u001b[0m\n",
      "\u001b[1;31mModuleNotFoundError\u001b[0m: No module named 'tweepy'"
     ]
    }
   ],
   "source": [
    "import tweepy\n",
    "print(tweepy.__path__)"
   ]
  },
  {
   "cell_type": "code",
   "execution_count": null,
   "id": "29d9f3c1",
   "metadata": {},
   "outputs": [],
   "source": []
  }
 ],
 "metadata": {
  "kernelspec": {
   "display_name": "Python 3",
   "language": "python",
   "name": "python3"
  },
  "language_info": {
   "codemirror_mode": {
    "name": "ipython",
    "version": 3
   },
   "file_extension": ".py",
   "mimetype": "text/x-python",
   "name": "python",
   "nbconvert_exporter": "python",
   "pygments_lexer": "ipython3",
   "version": "3.8.8"
  }
 },
 "nbformat": 4,
 "nbformat_minor": 5
}
