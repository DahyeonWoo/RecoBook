{
 "cells": [
  {
   "cell_type": "code",
   "execution_count": 26,
   "id": "3801001c",
   "metadata": {
    "scrolled": true
   },
   "outputs": [
    {
     "name": "stdout",
     "output_type": "stream",
     "text": [
      "                                                     0\n",
      "0                                           미스테리아 편집부 \n",
      "1                                              악스트 편집부\n",
      "2                                               릿터 편집부\n",
      "3    임현, 임철홍, 에밀리 정민 윤, 이정식, 임소라, 김대성, 박하빈, 염은영, 김혜...\n",
      "4                                          헨리 데이비드 소로우\n",
      "..                                                 ...\n",
      "765                                                이금이\n",
      "766                                        앙투안 드 생텍쥐페리\n",
      "767                                                이경혜\n",
      "768                                           요코야마 히데오\n",
      "769                                                김동식\n",
      "\n",
      "[770 rows x 1 columns]\n",
      "                                                     0\n",
      "0                                            미스테리아 편집부\n",
      "1                                              악스트 편집부\n",
      "2                                               릿터 편집부\n",
      "3    임현, 임철홍, 에밀리 정민 윤, 이정식, 임소라, 김대성, 박하빈, 염은영, 김혜...\n",
      "4                                          헨리 데이비드 소로우\n",
      "..                                                 ...\n",
      "765                                                이금이\n",
      "766                                        앙투안 드 생텍쥐페리\n",
      "767                                                이경혜\n",
      "768                                           요코야마 히데오\n",
      "769                                                김동식\n",
      "\n",
      "[770 rows x 1 columns]\n"
     ]
    }
   ],
   "source": [
    "import pymysql\n",
    "import numpy as np\n",
    "import pandas as pd\n",
    "import time\n",
    "\n",
    "MYSQL_CONN = pymysql.connect(\n",
    "    host='db-6slkr-kr.vpc-pub-cdb.ntruss.com',\n",
    "    port=3306,\n",
    "    user='domain',\n",
    "    passwd='bookcode7!',\n",
    "    db='bookcode',\n",
    "    charset='utf8mb4'\n",
    ")\n",
    "\n",
    "def conn_mysqldb():\n",
    "    if not MYSQL_CONN.open:\n",
    "        MYSQL_CONN.ping(reconnect=True)\n",
    "    return MYSQL_CONN\n",
    "\n",
    "def onlyAuthor(text):\n",
    "    text=text.split('(지은이)')[0].strip()\n",
    "    return text\n",
    "\n",
    "if __name__ == '__main__':\n",
    "    res = conn_mysqldb()\n",
    "    sql = \"SELECT author FROM Book;\" \n",
    "\n",
    "    cursor = res.cursor() \n",
    "    cursor.execute(sql) \n",
    "\n",
    "    result = cursor.fetchall()\n",
    "    result = pd.DataFrame(result)\n",
    "    change_result = result.copy()\n",
    "    change_result[0] = change_result[0].apply(onlyAuthor)\n",
    "    \n",
    "    print(result)\n",
    "    \n",
    "    for idx, author in enumerate(change_result[0]):\n",
    "  \n",
    "        sql=f\"UPDATE Book SET author=\\\"{author}\\\" WHERE author=\\\"{result[0][idx]}\\\";\"\n",
    "        cursor = res.cursor() \n",
    "        cursor.execute(sql)\n",
    "    \n",
    "    sql = \"SELECT author FROM Book;\" \n",
    "    cursor.execute(sql) \n",
    "    result = cursor.fetchall()\n",
    "    result = pd.DataFrame(result)\n",
    "    print(result)\n",
    "    "
   ]
  },
  {
   "cell_type": "code",
   "execution_count": 27,
   "id": "f52f7026",
   "metadata": {},
   "outputs": [
    {
     "name": "stdout",
     "output_type": "stream",
     "text": [
      "                                                    0\n",
      "0                                           미스테리아 편집부\n",
      "1                                             악스트 편집부\n",
      "2                                              릿터 편집부\n",
      "3   임현, 임철홍, 에밀리 정민 윤, 이정식, 임소라, 김대성, 박하빈, 염은영, 김혜...\n",
      "4                                         헨리 데이비드 소로우\n",
      "5                                             미시마 유키오\n",
      "6                                                 박완서\n",
      "7                                                 최숙희\n",
      "8                                                 윤동주\n",
      "9                                                 ETS\n",
      "10                                             존 윌리엄스\n",
      "11                                             존 윌리엄스\n",
      "12                                                이문열\n",
      "13                                           모리미 토미히코\n",
      "14                                              앤디 위어\n",
      "15                                              앤디 위어\n",
      "16                                              앤디 위어\n",
      "17                                              앤디 위어\n",
      "18                                            마이클 코널리\n",
      "19                                           히가시노 게이고\n"
     ]
    }
   ],
   "source": [
    "if __name__ == '__main__':\n",
    "    sql = \"SELECT author FROM Book;\" \n",
    "\n",
    "    cursor = res.cursor() \n",
    "    cursor.execute(sql) \n",
    "\n",
    "    result = cursor.fetchall()\n",
    "    result = pd.DataFrame(result)\n",
    "    print(result[0:20])"
   ]
  },
  {
   "cell_type": "code",
   "execution_count": null,
   "id": "882c5e20",
   "metadata": {},
   "outputs": [],
   "source": []
  }
 ],
 "metadata": {
  "kernelspec": {
   "display_name": "Python 3",
   "language": "python",
   "name": "python3"
  },
  "language_info": {
   "codemirror_mode": {
    "name": "ipython",
    "version": 3
   },
   "file_extension": ".py",
   "mimetype": "text/x-python",
   "name": "python",
   "nbconvert_exporter": "python",
   "pygments_lexer": "ipython3",
   "version": "3.8.8"
  }
 },
 "nbformat": 4,
 "nbformat_minor": 5
}
