{
 "cells": [
  {
   "cell_type": "code",
   "execution_count": 1,
   "id": "91e4b073",
   "metadata": {},
   "outputs": [
    {
     "name": "stdout",
     "output_type": "stream",
     "text": [
      "                                                      0\n",
      "0                                        흘러가는 구름을 동경하였다\n",
      "1                               장애와 테크놀로지 - 과학잡지 에피 16호\n",
      "2                                  식물의 과학 - 과학잡지 에피 17호\n",
      "3                          에픽 #04 - BELOVED, 2021.7.8.9\n",
      "4                               오늘의 좋은 소설 2021.가을 - 58호\n",
      "...                                                 ...\n",
      "5901                                          왓더? 오디오 1\n",
      "5902      오늘의 어린이책 1 - 다움북클럽이 고른 성평등 어린이·청소년책 2019-2021\n",
      "5903  괜찮아, 아빠도 쉽진 않더라 - 오늘을 살아가는 우리 모두를 위한 동화, &lt;퇴...\n",
      "5904                                       미래를 향한 노스탤지어\n",
      "5905          채사장의 지대넓얕 1 : 권력의 탄생 - 지적 대화를 위한 넓고 얕은 지식\n",
      "\n",
      "[5906 rows x 1 columns]\n"
     ]
    }
   ],
   "source": [
    "import pymysql\n",
    "import numpy as np\n",
    "import pandas as pd\n",
    "import time\n",
    "\n",
    "MYSQL_CONN = pymysql.connect(\n",
    "    host='db-6slkr-kr.vpc-pub-cdb.ntruss.com',\n",
    "    port=3306,\n",
    "    user='domain',\n",
    "    passwd='bookcode7!',\n",
    "    db='bookcode',\n",
    "    charset='utf8mb4'\n",
    ")\n",
    "\n",
    "def conn_mysqldb():\n",
    "    if not MYSQL_CONN.open:\n",
    "        MYSQL_CONN.ping(reconnect=True)\n",
    "    return MYSQL_CONN\n",
    "\n",
    "if __name__ == '__main__':\n",
    "    res = conn_mysqldb()\n",
    "    sql = \"SELECT title FROM Book;\" \n",
    "\n",
    "    cursor = res.cursor() \n",
    "    cursor.execute(sql) \n",
    "\n",
    "    result = cursor.fetchall()\n",
    "    result = pd.DataFrame(result)\n",
    "    \n",
    "    print(result)\n",
    "    "
   ]
  },
  {
   "cell_type": "code",
   "execution_count": 3,
   "id": "78cda530",
   "metadata": {},
   "outputs": [
    {
     "name": "stdout",
     "output_type": "stream",
     "text": [
      "몬테크리스토 백작 3 \n",
      "몬테크리스토 백작  \n",
      "몬테크리스토 백작 3 \n",
      "몬테크리스토 백작 3 \n",
      "몬테크리스토 백작  \n",
      "['몬테크리스토 백작 3 ', '몬테크리스토 백작  ', '몬테크리스토 백작 3 ', '몬테크리스토 백작  ']\n",
      "['몬테크리스토 백작', '몬테크리스토 백작 3']\n"
     ]
    }
   ],
   "source": [
    "# 가능성 나열 ㅆㅃ...\n",
    "# 1. 설득의 심리학 1 (리커버 에디션) - 사람의 마음을 사로잡는 6가지 불변의 법칙   (로split&숫자제거\n",
    "# 2. 몬테크리스토 백작 3 숫자만 제거\n",
    "# 4. 오늘의 SF #1 특수문자와 숫자만\n",
    "# 5. 밤의 대통령 1~2 세트 - 전2권 - 개정판   개정판/세트/한정판 등의 특수단어를 지정하고 replace\n",
    "\n",
    "import re\n",
    "text=\"몬테크리스토 백작 3 \"\n",
    "\n",
    "# 개정판 세트 한정판 등의 특수단어 replace\n",
    "boollist=['에디션','한정판','세트','리커버','한정']\n",
    "for boolword in boollist:\n",
    "    text=text.replace(boolword,'')\n",
    "print(text)\n",
    "\n",
    "# 정규식으로 한글과 띄어쓰기만 남기기\n",
    "letters_only = re.sub('[^ 가-힣]', '', text)   \n",
    "\n",
    "# ( - : 기준으로 split\n",
    "letters = text.split('(' or '-' or ':')[0]\n",
    "best_clean = re.sub('[^ 가-힣]', '', letters)\n",
    "print(letters_only)\n",
    "print(letters)\n",
    "print(text)\n",
    "print(best_clean)\n",
    "sysno = [text,letters_only,letters,best_clean]\n",
    "print(sysno)\n",
    "sys = [syss.strip() for syss in sysno]\n",
    "print(list(set(sys)))"
   ]
  },
  {
   "cell_type": "code",
   "execution_count": 84,
   "id": "ac96f269",
   "metadata": {},
   "outputs": [],
   "source": [
    "allWordList=[] #중복점검용 유의어까지 모든 단어 저장하는 리스트\n",
    "synonymList={} #db의 title 이름을 key값으로 title의 유사어를 value 값으로 가지는 딕셔너리\n",
    "\n",
    "def checkInWordList(wordList):\n",
    "    for word in wordList:\n",
    "        if word not in allWordList:\n",
    "            allWordList.append(word)\n",
    "        else:\n",
    "            wordList.remove(word)\n",
    "    return wordList\n",
    "     \n",
    "for title in result[0]:\n",
    "    title_synonym = []\n",
    "    if(len(title)>40):\n",
    "        continue\n",
    "    # 개정판 세트 한정판 등의 특수단어 replace\n",
    "    boollist=['에디션','한정판','세트','리커버','한정','특별판','개역판','개정판','재판', '제판','리마스터판','반양장','양장판']\n",
    "    original_title = title\n",
    "    for boolword in boollist:\n",
    "        title=title.replace(boolword,'')\n",
    "    \n",
    "    # onlyko_title : 정규식으로 한글과 띄어쓰기만 남기기\n",
    "    onlyko_title = re.sub('[^ 가-힣]', '', title)   \n",
    "\n",
    "    # split_title : ( - : 기준으로 split\n",
    "    split_title= re.sub('[/:(.-]','/',title)\n",
    "    split_title = split_title.split('/')[0]\n",
    "    \n",
    "    # bestclean_title : ( - : 기준으로 split + 정규식으로 한글과 띄어쓰기만\n",
    "    bestclean_title = re.sub('[^ 가-힣]', '', split_title)\n",
    "    \n",
    "    title_synonym.append(onlyko_title)\n",
    "    title_synonym.append(split_title)\n",
    "    title_synonym.append(bestclean_title)\n",
    "    \n",
    "    # 중복 제거\n",
    "    title_synonym = list(set(title_synonym))\n",
    "    title_synonym = [synonym.strip() for synonym in title_synonym]\n",
    "    try:\n",
    "        title_synonym.remove(original_title)\n",
    "    except:\n",
    "        pass\n",
    "    title_synonym = checkInWordList(title_synonym)\n",
    "    \n",
    "    synonymList[original_title]='/'.join(title_synonym)    "
   ]
  },
  {
   "cell_type": "code",
   "execution_count": 92,
   "id": "ccf1ecd7",
   "metadata": {},
   "outputs": [],
   "source": [
    "import pandas as pd\n",
    "\n",
    "# 샘플 데이터프레임 생성\n",
    "inventors = pd.DataFrame.from_dict([synonymList])\n",
    "for title in synonymList.keys():\n",
    "    inventors[title][0]=inventors[title][0].replace('/',',')"
   ]
  },
  {
   "cell_type": "code",
   "execution_count": 94,
   "id": "7d293f3c",
   "metadata": {},
   "outputs": [],
   "source": [
    "# 이제 인덱스는 저장되지 않습니다.\n",
    "inventors.T.to_excel('bookentity.xlsx', index=True)\n",
    "#이뒤에 잠깐 파일에 들어가서 임의로 열의 이름을 바꾸고 book을 엔티티 이름 열에 추가해줌"
   ]
  },
  {
   "cell_type": "code",
   "execution_count": 95,
   "id": "86cb5822",
   "metadata": {},
   "outputs": [],
   "source": [
    "df= pd.read_excel('bookentity.xlsx')"
   ]
  },
  {
   "cell_type": "code",
   "execution_count": 96,
   "id": "5ccacd53",
   "metadata": {},
   "outputs": [
    {
     "name": "stdout",
     "output_type": "stream",
     "text": [
      "Index(['대표어', '유사어', '엔티티 이름', '민감 정보 보안설정'], dtype='object')\n"
     ]
    }
   ],
   "source": [
    "print(df.columns)"
   ]
  },
  {
   "cell_type": "code",
   "execution_count": 97,
   "id": "b8510bd4",
   "metadata": {},
   "outputs": [],
   "source": [
    "df=df.reindex(columns=['엔티티 이름','대표어','유사어','민감 정보 보안설정'] )\n",
    "df['민감 정보 보안설정']='일반설정'\n",
    "df.to_excel('bookentity.xlsx', index=False)"
   ]
  },
  {
   "cell_type": "code",
   "execution_count": null,
   "id": "db37ce07",
   "metadata": {},
   "outputs": [],
   "source": []
  }
 ],
 "metadata": {
  "kernelspec": {
   "display_name": "Python 3",
   "language": "python",
   "name": "python3"
  },
  "language_info": {
   "codemirror_mode": {
    "name": "ipython",
    "version": 3
   },
   "file_extension": ".py",
   "mimetype": "text/x-python",
   "name": "python",
   "nbconvert_exporter": "python",
   "pygments_lexer": "ipython3",
   "version": "3.8.8"
  }
 },
 "nbformat": 4,
 "nbformat_minor": 5
}
