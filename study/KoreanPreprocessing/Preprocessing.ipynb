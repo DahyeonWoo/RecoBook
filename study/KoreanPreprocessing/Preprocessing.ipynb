{
 "cells": [
  {
   "cell_type": "markdown",
   "id": "11c42d52",
   "metadata": {},
   "source": [
    "### 전처리된 함수 반환하기"
   ]
  },
  {
   "cell_type": "code",
   "execution_count": 4,
   "id": "31e6a16a",
   "metadata": {},
   "outputs": [
    {
     "name": "stdout",
     "output_type": "stream",
     "text": [
      "Name: beautifulsoup4\n",
      "Version: 4.6.0\n",
      "Summary: Screen-scraping library\n",
      "Home-page: http://www.crummy.com/software/BeautifulSoup/bs4/\n",
      "Author: Leonard Richardson\n",
      "Author-email: leonardr@segfault.org\n",
      "License: MIT\n",
      "Location: c:\\users\\user\\appdata\\roaming\\python\\python38\\site-packages\n",
      "Requires: \n",
      "Required-by: konlpy, conda-build\n",
      "Requirement already satisfied: gensim in c:\\users\\user\\appdata\\roaming\\python\\python38\\site-packages (3.7.0)\n",
      "Requirement already satisfied: smart-open>=1.7.0 in c:\\users\\user\\anaconda3\\lib\\site-packages (from gensim) (1.9.0)\n",
      "Requirement already satisfied: numpy>=1.11.3 in c:\\users\\user\\anaconda3\\lib\\site-packages (from gensim) (1.19.5)\n",
      "Requirement already satisfied: six>=1.5.0 in c:\\users\\user\\anaconda3\\lib\\site-packages (from gensim) (1.15.0)\n",
      "Requirement already satisfied: scipy>=0.18.1 in c:\\users\\user\\anaconda3\\lib\\site-packages (from gensim) (1.6.2)\n",
      "Requirement already satisfied: requests in c:\\users\\user\\anaconda3\\lib\\site-packages (from smart-open>=1.7.0->gensim) (2.26.0)\n",
      "Requirement already satisfied: boto3 in c:\\users\\user\\anaconda3\\lib\\site-packages (from smart-open>=1.7.0->gensim) (1.17.88)\n",
      "Requirement already satisfied: bz2file in c:\\users\\user\\anaconda3\\lib\\site-packages (from smart-open>=1.7.0->gensim) (0.98)\n",
      "Requirement already satisfied: boto>=2.32 in c:\\users\\user\\anaconda3\\lib\\site-packages (from smart-open>=1.7.0->gensim) (2.49.0)\n",
      "Requirement already satisfied: jmespath<1.0.0,>=0.7.1 in c:\\users\\user\\anaconda3\\lib\\site-packages (from boto3->smart-open>=1.7.0->gensim) (0.10.0)\n",
      "Requirement already satisfied: s3transfer<0.5.0,>=0.4.0 in c:\\users\\user\\anaconda3\\lib\\site-packages (from boto3->smart-open>=1.7.0->gensim) (0.4.2)\n",
      "Requirement already satisfied: botocore<1.21.0,>=1.20.88 in c:\\users\\user\\anaconda3\\lib\\site-packages (from boto3->smart-open>=1.7.0->gensim) (1.20.94)\n",
      "Requirement already satisfied: python-dateutil<3.0.0,>=2.1 in c:\\users\\user\\anaconda3\\lib\\site-packages (from botocore<1.21.0,>=1.20.88->boto3->smart-open>=1.7.0->gensim) (2.8.1)\n",
      "Requirement already satisfied: urllib3<1.27,>=1.25.4 in c:\\users\\user\\anaconda3\\lib\\site-packages (from botocore<1.21.0,>=1.20.88->boto3->smart-open>=1.7.0->gensim) (1.26.6)\n",
      "Requirement already satisfied: certifi>=2017.4.17 in c:\\users\\user\\anaconda3\\lib\\site-packages (from requests->smart-open>=1.7.0->gensim) (2020.12.5)\n",
      "Requirement already satisfied: idna<4,>=2.5 in c:\\users\\user\\anaconda3\\lib\\site-packages (from requests->smart-open>=1.7.0->gensim) (2.6)\n",
      "Requirement already satisfied: charset-normalizer~=2.0.0 in c:\\users\\user\\anaconda3\\lib\\site-packages (from requests->smart-open>=1.7.0->gensim) (2.0.3)\n",
      "Collecting git+https://github.com/ssut/py-hanspell.git\n",
      "  Cloning https://github.com/ssut/py-hanspell.git to c:\\users\\user\\appdata\\local\\temp\\pip-req-build-0379hrrh\n",
      "Requirement already satisfied: requests in c:\\users\\user\\anaconda3\\lib\\site-packages (from py-hanspell==1.1) (2.26.0)\n",
      "Requirement already satisfied: charset-normalizer~=2.0.0 in c:\\users\\user\\anaconda3\\lib\\site-packages (from requests->py-hanspell==1.1) (2.0.3)\n",
      "Requirement already satisfied: certifi>=2017.4.17 in c:\\users\\user\\anaconda3\\lib\\site-packages (from requests->py-hanspell==1.1) (2020.12.5)\n",
      "Requirement already satisfied: urllib3<1.27,>=1.21.1 in c:\\users\\user\\anaconda3\\lib\\site-packages (from requests->py-hanspell==1.1) (1.26.6)\n",
      "Requirement already satisfied: idna<4,>=2.5 in c:\\users\\user\\anaconda3\\lib\\site-packages (from requests->py-hanspell==1.1) (2.6)\n"
     ]
    },
    {
     "name": "stderr",
     "output_type": "stream",
     "text": [
      "  Running command git clone -q https://github.com/ssut/py-hanspell.git 'C:\\Users\\user\\AppData\\Local\\Temp\\pip-req-build-0379hrrh'\n"
     ]
    },
    {
     "name": "stdout",
     "output_type": "stream",
     "text": [
      "Collecting git+https://github.com/haven-jeon/PyKoSpacing.git\n",
      "  Cloning https://github.com/haven-jeon/PyKoSpacing.git to c:\\users\\user\\appdata\\local\\temp\\pip-req-build-puxwqr8v\n",
      "Requirement already satisfied: tensorflow==2.5.0 in c:\\users\\user\\anaconda3\\lib\\site-packages (from pykospacing==0.5) (2.5.0)\n",
      "Requirement already satisfied: h5py==3.1.0 in c:\\users\\user\\anaconda3\\lib\\site-packages (from pykospacing==0.5) (3.1.0)\n",
      "Collecting argparse>=1.4.0\n",
      "  Using cached argparse-1.4.0-py2.py3-none-any.whl (23 kB)\n",
      "Requirement already satisfied: numpy>=1.17.5 in c:\\users\\user\\anaconda3\\lib\\site-packages (from h5py==3.1.0->pykospacing==0.5) (1.19.5)\n",
      "Requirement already satisfied: grpcio~=1.34.0 in c:\\users\\user\\anaconda3\\lib\\site-packages (from tensorflow==2.5.0->pykospacing==0.5) (1.34.1)\n",
      "Requirement already satisfied: tensorflow-estimator<2.6.0,>=2.5.0rc0 in c:\\users\\user\\anaconda3\\lib\\site-packages (from tensorflow==2.5.0->pykospacing==0.5) (2.5.0)\n"
     ]
    },
    {
     "name": "stderr",
     "output_type": "stream",
     "text": [
      "  Running command git clone -q https://github.com/haven-jeon/PyKoSpacing.git 'C:\\Users\\user\\AppData\\Local\\Temp\\pip-req-build-puxwqr8v'\n"
     ]
    },
    {
     "name": "stdout",
     "output_type": "stream",
     "text": [
      "Requirement already satisfied: absl-py~=0.10 in c:\\users\\user\\anaconda3\\lib\\site-packages (from tensorflow==2.5.0->pykospacing==0.5) (0.13.0)\n",
      "Requirement already satisfied: tensorboard~=2.5 in c:\\users\\user\\anaconda3\\lib\\site-packages (from tensorflow==2.5.0->pykospacing==0.5) (2.5.0)\n",
      "Requirement already satisfied: keras-preprocessing~=1.1.2 in c:\\users\\user\\anaconda3\\lib\\site-packages (from tensorflow==2.5.0->pykospacing==0.5) (1.1.2)\n",
      "Requirement already satisfied: wheel~=0.35 in c:\\users\\user\\anaconda3\\lib\\site-packages (from tensorflow==2.5.0->pykospacing==0.5) (0.36.2)\n",
      "Requirement already satisfied: protobuf>=3.9.2 in c:\\users\\user\\anaconda3\\lib\\site-packages (from tensorflow==2.5.0->pykospacing==0.5) (3.17.3)\n",
      "Requirement already satisfied: wrapt~=1.12.1 in c:\\users\\user\\anaconda3\\lib\\site-packages (from tensorflow==2.5.0->pykospacing==0.5) (1.12.1)\n",
      "Requirement already satisfied: gast==0.4.0 in c:\\users\\user\\anaconda3\\lib\\site-packages (from tensorflow==2.5.0->pykospacing==0.5) (0.4.0)\n",
      "Requirement already satisfied: termcolor~=1.1.0 in c:\\users\\user\\anaconda3\\lib\\site-packages (from tensorflow==2.5.0->pykospacing==0.5) (1.1.0)\n",
      "Requirement already satisfied: opt-einsum~=3.3.0 in c:\\users\\user\\anaconda3\\lib\\site-packages (from tensorflow==2.5.0->pykospacing==0.5) (3.3.0)\n",
      "Requirement already satisfied: flatbuffers~=1.12.0 in c:\\users\\user\\anaconda3\\lib\\site-packages (from tensorflow==2.5.0->pykospacing==0.5) (1.12)\n",
      "Requirement already satisfied: typing-extensions~=3.7.4 in c:\\users\\user\\anaconda3\\lib\\site-packages (from tensorflow==2.5.0->pykospacing==0.5) (3.7.4.3)\n",
      "Requirement already satisfied: six~=1.15.0 in c:\\users\\user\\anaconda3\\lib\\site-packages (from tensorflow==2.5.0->pykospacing==0.5) (1.15.0)\n",
      "Requirement already satisfied: google-pasta~=0.2 in c:\\users\\user\\anaconda3\\lib\\site-packages (from tensorflow==2.5.0->pykospacing==0.5) (0.2.0)\n",
      "Requirement already satisfied: astunparse~=1.6.3 in c:\\users\\user\\anaconda3\\lib\\site-packages (from tensorflow==2.5.0->pykospacing==0.5) (1.6.3)\n",
      "Requirement already satisfied: keras-nightly~=2.5.0.dev in c:\\users\\user\\anaconda3\\lib\\site-packages (from tensorflow==2.5.0->pykospacing==0.5) (2.5.0.dev2021032900)\n",
      "Requirement already satisfied: werkzeug>=0.11.15 in c:\\users\\user\\anaconda3\\lib\\site-packages (from tensorboard~=2.5->tensorflow==2.5.0->pykospacing==0.5) (1.0.1)\n",
      "Requirement already satisfied: setuptools>=41.0.0 in c:\\users\\user\\anaconda3\\lib\\site-packages (from tensorboard~=2.5->tensorflow==2.5.0->pykospacing==0.5) (52.0.0.post20210125)\n",
      "Requirement already satisfied: tensorboard-data-server<0.7.0,>=0.6.0 in c:\\users\\user\\anaconda3\\lib\\site-packages (from tensorboard~=2.5->tensorflow==2.5.0->pykospacing==0.5) (0.6.1)\n",
      "Requirement already satisfied: markdown>=2.6.8 in c:\\users\\user\\anaconda3\\lib\\site-packages (from tensorboard~=2.5->tensorflow==2.5.0->pykospacing==0.5) (3.3.4)\n",
      "Requirement already satisfied: google-auth<2,>=1.6.3 in c:\\users\\user\\anaconda3\\lib\\site-packages (from tensorboard~=2.5->tensorflow==2.5.0->pykospacing==0.5) (1.32.1)\n",
      "Requirement already satisfied: google-auth-oauthlib<0.5,>=0.4.1 in c:\\users\\user\\anaconda3\\lib\\site-packages (from tensorboard~=2.5->tensorflow==2.5.0->pykospacing==0.5) (0.4.4)\n",
      "Requirement already satisfied: requests<3,>=2.21.0 in c:\\users\\user\\anaconda3\\lib\\site-packages (from tensorboard~=2.5->tensorflow==2.5.0->pykospacing==0.5) (2.26.0)\n",
      "Requirement already satisfied: tensorboard-plugin-wit>=1.6.0 in c:\\users\\user\\anaconda3\\lib\\site-packages (from tensorboard~=2.5->tensorflow==2.5.0->pykospacing==0.5) (1.8.0)\n",
      "Requirement already satisfied: pyasn1-modules>=0.2.1 in c:\\users\\user\\anaconda3\\lib\\site-packages (from google-auth<2,>=1.6.3->tensorboard~=2.5->tensorflow==2.5.0->pykospacing==0.5) (0.2.8)\n",
      "Requirement already satisfied: cachetools<5.0,>=2.0.0 in c:\\users\\user\\anaconda3\\lib\\site-packages (from google-auth<2,>=1.6.3->tensorboard~=2.5->tensorflow==2.5.0->pykospacing==0.5) (4.2.2)\n",
      "Requirement already satisfied: rsa<5,>=3.1.4 in c:\\users\\user\\anaconda3\\lib\\site-packages (from google-auth<2,>=1.6.3->tensorboard~=2.5->tensorflow==2.5.0->pykospacing==0.5) (4.7.2)\n",
      "Requirement already satisfied: requests-oauthlib>=0.7.0 in c:\\users\\user\\anaconda3\\lib\\site-packages (from google-auth-oauthlib<0.5,>=0.4.1->tensorboard~=2.5->tensorflow==2.5.0->pykospacing==0.5) (1.3.0)\n",
      "Requirement already satisfied: pyasn1<0.5.0,>=0.4.6 in c:\\users\\user\\anaconda3\\lib\\site-packages (from pyasn1-modules>=0.2.1->google-auth<2,>=1.6.3->tensorboard~=2.5->tensorflow==2.5.0->pykospacing==0.5) (0.4.8)\n",
      "Requirement already satisfied: urllib3<1.27,>=1.21.1 in c:\\users\\user\\anaconda3\\lib\\site-packages (from requests<3,>=2.21.0->tensorboard~=2.5->tensorflow==2.5.0->pykospacing==0.5) (1.26.6)\n",
      "Requirement already satisfied: idna<4,>=2.5 in c:\\users\\user\\anaconda3\\lib\\site-packages (from requests<3,>=2.21.0->tensorboard~=2.5->tensorflow==2.5.0->pykospacing==0.5) (2.6)\n",
      "Requirement already satisfied: charset-normalizer~=2.0.0 in c:\\users\\user\\anaconda3\\lib\\site-packages (from requests<3,>=2.21.0->tensorboard~=2.5->tensorflow==2.5.0->pykospacing==0.5) (2.0.3)\n",
      "Requirement already satisfied: certifi>=2017.4.17 in c:\\users\\user\\anaconda3\\lib\\site-packages (from requests<3,>=2.21.0->tensorboard~=2.5->tensorflow==2.5.0->pykospacing==0.5) (2020.12.5)\n",
      "Requirement already satisfied: oauthlib>=3.0.0 in c:\\users\\user\\anaconda3\\lib\\site-packages (from requests-oauthlib>=0.7.0->google-auth-oauthlib<0.5,>=0.4.1->tensorboard~=2.5->tensorflow==2.5.0->pykospacing==0.5) (3.1.1)\n",
      "Installing collected packages: argparse\n",
      "Successfully installed argparse-1.4.0\n",
      "Requirement already satisfied: customized_konlpy in c:\\users\\user\\anaconda3\\lib\\site-packages (0.0.64)\n",
      "Requirement already satisfied: Jpype1>=0.6.1 in c:\\users\\user\\anaconda3\\lib\\site-packages (from customized_konlpy) (1.0.2)\n",
      "Requirement already satisfied: konlpy>=0.4.4 in c:\\users\\user\\appdata\\roaming\\python\\python38\\site-packages (from customized_konlpy) (0.5.2)\n",
      "Requirement already satisfied: numpy>=1.6 in c:\\users\\user\\anaconda3\\lib\\site-packages (from konlpy>=0.4.4->customized_konlpy) (1.19.5)\n",
      "Requirement already satisfied: tweepy>=3.7.0 in c:\\users\\user\\anaconda3\\lib\\site-packages (from konlpy>=0.4.4->customized_konlpy) (3.10.0)\n",
      "Requirement already satisfied: colorama in c:\\users\\user\\anaconda3\\lib\\site-packages (from konlpy>=0.4.4->customized_konlpy) (0.4.4)\n",
      "Requirement already satisfied: beautifulsoup4==4.6.0 in c:\\users\\user\\appdata\\roaming\\python\\python38\\site-packages (from konlpy>=0.4.4->customized_konlpy) (4.6.0)\n",
      "Requirement already satisfied: lxml>=4.1.0 in c:\\users\\user\\anaconda3\\lib\\site-packages (from konlpy>=0.4.4->customized_konlpy) (4.6.3)\n",
      "Requirement already satisfied: requests-oauthlib>=0.7.0 in c:\\users\\user\\anaconda3\\lib\\site-packages (from tweepy>=3.7.0->konlpy>=0.4.4->customized_konlpy) (1.3.0)\n",
      "Requirement already satisfied: requests[socks]>=2.11.1 in c:\\users\\user\\anaconda3\\lib\\site-packages (from tweepy>=3.7.0->konlpy>=0.4.4->customized_konlpy) (2.26.0)\n",
      "Requirement already satisfied: six>=1.10.0 in c:\\users\\user\\anaconda3\\lib\\site-packages (from tweepy>=3.7.0->konlpy>=0.4.4->customized_konlpy) (1.15.0)\n",
      "Requirement already satisfied: oauthlib>=3.0.0 in c:\\users\\user\\anaconda3\\lib\\site-packages (from requests-oauthlib>=0.7.0->tweepy>=3.7.0->konlpy>=0.4.4->customized_konlpy) (3.1.1)\n",
      "Requirement already satisfied: charset-normalizer~=2.0.0 in c:\\users\\user\\anaconda3\\lib\\site-packages (from requests[socks]>=2.11.1->tweepy>=3.7.0->konlpy>=0.4.4->customized_konlpy) (2.0.3)\n",
      "Requirement already satisfied: idna<4,>=2.5 in c:\\users\\user\\anaconda3\\lib\\site-packages (from requests[socks]>=2.11.1->tweepy>=3.7.0->konlpy>=0.4.4->customized_konlpy) (2.6)\n",
      "Requirement already satisfied: urllib3<1.27,>=1.21.1 in c:\\users\\user\\anaconda3\\lib\\site-packages (from requests[socks]>=2.11.1->tweepy>=3.7.0->konlpy>=0.4.4->customized_konlpy) (1.26.6)\n",
      "Requirement already satisfied: certifi>=2017.4.17 in c:\\users\\user\\anaconda3\\lib\\site-packages (from requests[socks]>=2.11.1->tweepy>=3.7.0->konlpy>=0.4.4->customized_konlpy) (2020.12.5)\n",
      "Requirement already satisfied: PySocks!=1.5.7,>=1.5.6 in c:\\users\\user\\anaconda3\\lib\\site-packages (from requests[socks]>=2.11.1->tweepy>=3.7.0->konlpy>=0.4.4->customized_konlpy) (1.7.1)\n"
     ]
    }
   ],
   "source": [
    "# 모듈 임포트\n",
    "!pip show BeautifulSoup4\n",
    "!pip install gensim\n",
    "!pip install git+https://github.com/ssut/py-hanspell.git\n",
    "!pip install git+https://github.com/haven-jeon/PyKoSpacing.git\n",
    "!pip install customized_konlpy\n",
    "from hanspell import spell_checker\n",
    "from bs4 import BeautifulSoup\n",
    "import pandas as pd\n",
    "import matplotlib.pyplot as plt\n",
    "import urllib.request\n",
    "from konlpy.tag import Okt\n",
    "from pykospacing import Spacing"
   ]
  },
  {
   "cell_type": "code",
   "execution_count": 5,
   "id": "cbc9a636",
   "metadata": {},
   "outputs": [],
   "source": [
    "def review_to_words( raw_review ):\n",
    "    \n",
    "    # 1. HTML 제거\n",
    "    review_text = BeautifulSoup(raw_review, 'html.parser').get_text()\n",
    "    print(review_text)\n",
    "    \n",
    "    # 2. 한글 아닌 문자는 공백으로 변환\n",
    "    letters_only = review_text.replace(\"[^가-힣0-9]\",'')\n",
    "    \n",
    "    # 3. 한글 맞춤법\n",
    "    letters = spell_checker.check(letters_only).checked\n",
    "    \n",
    "    # 4. 한글 띄어쓰기 \n",
    "    letters = Spacing()(letters)\n",
    "    \n",
    "    # 5. 형태소 추출\n",
    "    okt = Okt()\n",
    "    tokenized_data = []\n",
    "    temp_X = okt.morphs(letters, stem=True) # 토큰화\n",
    "    \n",
    "    # 5. Stopwords 불용어 제거    \n",
    "    file=open('bool.txt','r',encoding='UTF8')\n",
    "    stopwords=file.readlines()[0].split(' ')\n",
    "    file.close()\n",
    "    \n",
    "    temp_X = [word for word in temp_X if not word in stopwords] \n",
    "    tokenized_data.append(temp_X)\n",
    "    \n",
    "    # 7. 공백으로 구분된 문자열로 결합하여 결과를 반환\n",
    "    return( ' '.join(temp_X) )   \n"
   ]
  },
  {
   "cell_type": "code",
   "execution_count": 7,
   "id": "21e21f71",
   "metadata": {},
   "outputs": [
    {
     "name": "stdout",
     "output_type": "stream",
     "text": [
      "생텍쥐페리 작가의 야간비행은 흥미롭지만 나의 흥미를 끌 정도는 아니었다\n"
     ]
    },
    {
     "data": {
      "text/plain": [
       "'생텍쥐페리 작가 야간 비행 흥미롭다 흥미 끌'"
      ]
     },
     "execution_count": 7,
     "metadata": {},
     "output_type": "execute_result"
    }
   ],
   "source": [
    "a=\"생텍쥐페리 작가의 야간비행은 흥미롭지만 나의 흥미를 끌 정도는 아니었다\"\n",
    "review_to_words(a)"
   ]
  },
  {
   "cell_type": "code",
   "execution_count": null,
   "id": "ac2014f2",
   "metadata": {},
   "outputs": [],
   "source": []
  }
 ],
 "metadata": {
  "kernelspec": {
   "display_name": "Python 3",
   "language": "python",
   "name": "python3"
  },
  "language_info": {
   "codemirror_mode": {
    "name": "ipython",
    "version": 3
   },
   "file_extension": ".py",
   "mimetype": "text/x-python",
   "name": "python",
   "nbconvert_exporter": "python",
   "pygments_lexer": "ipython3",
   "version": "3.8.8"
  }
 },
 "nbformat": 4,
 "nbformat_minor": 5
}
